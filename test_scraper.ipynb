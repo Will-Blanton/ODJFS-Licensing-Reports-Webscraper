{
 "cells": [
  {
   "cell_type": "code",
   "execution_count": 3,
   "id": "initial_id",
   "metadata": {
    "ExecuteTime": {
     "end_time": "2024-12-31T05:52:22.209012Z",
     "start_time": "2024-12-31T05:52:22.206336Z"
    },
    "collapsed": true
   },
   "outputs": [],
   "source": [
    "import cv2\n",
    "import easyocr\n",
    "import numpy as np\n",
    "import pandas as pd\n",
    "import requests\n",
    "import torch\n",
    "import os\n",
    "import re\n",
    "import urllib.request\n",
    "\n",
    "from fuzzywuzzy import process\n",
    "from pdf2image import convert_from_path\n",
    "from bs4 import BeautifulSoup\n",
    "from datetime import datetime\n",
    "from PIL import Image\n",
    "from io import BytesIO"
   ]
  },
  {
   "cell_type": "code",
   "execution_count": 4,
   "id": "5e63cd8ce4cd8a11",
   "metadata": {
    "ExecuteTime": {
     "end_time": "2024-12-31T05:52:22.282438Z",
     "start_time": "2024-12-31T05:52:22.278264Z"
    }
   },
   "outputs": [
    {
     "name": "stdout",
     "output_type": "stream",
     "text": [
      "CUDA Available: False\n",
      "CuDNN Enabled: True\n",
      "CuDNN Version: None\n"
     ]
    }
   ],
   "source": [
    "print(f\"CUDA Available: {torch.cuda.is_available()}\")\n",
    "\n",
    "# Check if CuDNN is enabled in PyTorch\n",
    "print(f\"CuDNN Enabled: {torch.backends.cudnn.enabled}\")\n",
    "\n",
    "# Check CuDNN version in PyTorch\n",
    "print(f\"CuDNN Version: {torch.backends.cudnn.version()}\")"
   ]
  },
  {
   "cell_type": "markdown",
   "id": "fa45a4c2e2fbe6f7",
   "metadata": {},
   "source": [
    "# Link and File Paths"
   ]
  },
  {
   "cell_type": "code",
   "execution_count": 5,
   "id": "9660cd02c29e86ea",
   "metadata": {
    "ExecuteTime": {
     "end_time": "2024-12-31T05:52:22.293050Z",
     "start_time": "2024-12-31T05:52:22.283442Z"
    }
   },
   "outputs": [],
   "source": [
    "ODCY_LINK = \"https://childcaresearch.ohio.gov/search?q=fVLNbhMxEN40v0uapgKhHhAiBy6VQkUR1xwWN1VDIVl1V0gFcXDWk42FY6%2b83pS98Q6ICxdeg1fgyBvwJjB2uhCJqrPS2DOf59tvPPZqnuf9RrOrtd0ddCRhyRXMiVqtlBwO3oDOuZKj46On9hsOSCFMoWEkoTCaiuEgLOaCJ%2bdQxuoDyJEshGhaxkfbREcn8ewoAqqTJdHcgOb0MZ7ZC7VacwZ6WqzmoFtEFdKUDcJN2X7LM6IY7FZH4jKD1gU1XKbdkGrDqZjSFbQnckGlyXuXWJvGijGBknszYUuuIz%2fUkCdLpYQfuSVIoX9Cy3y2mGWgkVPJ%2fTNV6O1E8zVQke%2b%2fgIXSsCkjVEN3vAaJGuy%2bE13x1QqD%2b1EGiRUEwHKy5IJZeC%2fWVOaZ0sYR9oMFNv6PqTdbg5Y8XRob3TnlIFiseZYfjKkWpaPBs2z8MUMaJPDPgLLIYO%2f3Qs3X1MA5l9hmihmQB5tBiPK0wCT7q%2bLuK07nXOCVTmReoKIEmtNgfEma0zEJA9wTEqI%2fJaROZkEjINEEB5FKThsThLxaDce5eSPthnejNTudmrOH%2fw3dXesFlSm8e2%2ffV%2b1Gs8jOk%2bNW3bL59cpVL9MFm51V4DdvloHWt3h7q7TtztrIIo0Htwi0IvyWdZbA71jn2%2b5s7rZCp9cNJub4IseS2bUTgYDEAHM8rkUv%2b%2frymV1%2fPf%2fCnC77p9Z25vvn4JtDOhVynfl0%2bPPwh0P8CqmsYu3%2bAQ%3d%3d\"\n",
    "\n",
    "REL_PATH = \"https://childcaresearch.ohio.gov/\""
   ]
  },
  {
   "cell_type": "markdown",
   "id": "5812669b91e451a3",
   "metadata": {},
   "source": [
    "# Helper Functions"
   ]
  },
  {
   "cell_type": "code",
   "execution_count": 6,
   "id": "53076a6116606ac8",
   "metadata": {
    "ExecuteTime": {
     "end_time": "2024-12-31T05:52:22.304550Z",
     "start_time": "2024-12-31T05:52:22.301562Z"
    }
   },
   "outputs": [],
   "source": [
    "def extract_html(url):\n",
    "    \"\"\"\n",
    "    Parse the html at the given url into a beautiful soup object, for manipulation.\n",
    "    \n",
    "    :param url: Any valid URL\n",
    "    :return: the parsed HTML or None if the request failed\n",
    "    \"\"\" \n",
    "    \n",
    "    response = requests.get(url)\n",
    "    \n",
    "    # check if the request was successful (status code 200)\n",
    "    if response.status_code == 200:\n",
    "\n",
    "        # parse the HTML content \n",
    "        soup = BeautifulSoup(response.text, 'html.parser')\n",
    "        \n",
    "        return soup\n",
    "    else:\n",
    "        print(f\"Failed to retrieve page, status code: {response.status_code}\")\n",
    "        return None"
   ]
  },
  {
   "cell_type": "code",
   "execution_count": 7,
   "id": "163a2af7a3783457",
   "metadata": {
    "ExecuteTime": {
     "end_time": "2024-12-31T05:52:22.320563Z",
     "start_time": "2024-12-31T05:52:22.305554Z"
    }
   },
   "outputs": [],
   "source": [
    "def extract_inspection(url):\n",
    "    \"\"\"\n",
    "    Extract the inspection link from the childcare center page\n",
    "    \n",
    "    :param url: the child care center page\n",
    "    :return: the inspection page link\n",
    "    \"\"\"\n",
    "    inspection_url = None\n",
    "\n",
    "    # get the html for the program page\n",
    "    program_page = extract_html(url)\n",
    "\n",
    "    if program_page:\n",
    "        inspection_button_span = program_page.find('span', class_='inspectionsButton')\n",
    "\n",
    "        if inspection_button_span:\n",
    "            inspection_link_tag = inspection_button_span.find_parent('a')\n",
    "\n",
    "            if inspection_link_tag and 'href' in inspection_link_tag.attrs:\n",
    "                inspection_url = REL_PATH + inspection_link_tag['href']\n",
    "                \n",
    "    return inspection_url"
   ]
  },
  {
   "cell_type": "code",
   "execution_count": 8,
   "id": "95652803b7566d25",
   "metadata": {
    "ExecuteTime": {
     "end_time": "2024-12-31T05:52:22.331364Z",
     "start_time": "2024-12-31T05:52:22.321567Z"
    }
   },
   "outputs": [],
   "source": [
    "def extract_pdf(url) -> str:\n",
    "    \"\"\"\n",
    "    Extract the pdf link from the inspection page\n",
    "    :param url: inspection url\n",
    "    :return: the pdf link\n",
    "    \"\"\"\n",
    "\n",
    "    inspection_page = extract_html(url)\n",
    "    most_recent_pdf_link = None\n",
    "    most_recent_date = None\n",
    "    \n",
    "    if inspection_page is not None:\n",
    "        rows = inspection_page.find_all('div', class_='resultsListRow')\n",
    "        \n",
    "        for row in rows:\n",
    "            date_column = row.find('div', class_='resultsListColumn')\n",
    "\n",
    "            pdf_col = row.find('span', class_='inspectionPDFlink') \n",
    "            pdf_link_tag = pdf_col.find('a', href=True)\n",
    "            \n",
    "            if pdf_link_tag and date_column:\n",
    "                \n",
    "                # format into a datetime object for date comparisons\n",
    "                inspection_date = list(date_column)[2].strip()\n",
    "                inspection_date = datetime.strptime(inspection_date, \"%m/%d/%Y\")\n",
    "                pdf_link = pdf_link_tag['href']\n",
    "                \n",
    "                # only save the most recent date (may not be necessary, since all appear to be listed in order. Adds robustness though...)\n",
    "                if most_recent_date is None or inspection_date > most_recent_date:\n",
    "                    most_recent_date = inspection_date\n",
    "                    most_recent_pdf_link = REL_PATH + pdf_link\n",
    "    \n",
    "    return most_recent_pdf_link"
   ]
  },
  {
   "cell_type": "code",
   "execution_count": 9,
   "id": "617ba97567b5bfba",
   "metadata": {
    "ExecuteTime": {
     "end_time": "2024-12-31T05:52:22.342381Z",
     "start_time": "2024-12-31T05:52:22.337368Z"
    }
   },
   "outputs": [],
   "source": [
    "def extract_all_pdfs(url) -> pd.DataFrame:\n",
    "    \"\"\"\n",
    "    Extract all pdf links and associated center info (e.g., name and address info) into a dataFrame for further parsing.\n",
    "    \n",
    "    :param url: The Ohio childcaresearch website URL (https://childcaresearch.ohio.gov/search for licensed childcare)\n",
    "    :return: a dataframe containing the center name, address info, and link to the pdf for the most recent center licensing inspection\n",
    "    \"\"\"\n",
    "\n",
    "    pdf_urls = []\n",
    "    main_page = None\n",
    "    page_num = 1\n",
    "    \n",
    "    # loop for all available pages\n",
    "    while not (pdf_urls and main_page is None):\n",
    "        \n",
    "        # get the current page of results\n",
    "        main_page = extract_html(f\"{url}&{page_num}\")\n",
    "        \n",
    "        if main_page is not None:\n",
    "            # get all results rows for further processing\n",
    "            results_list = main_page.find('div', class_='resultsList') \n",
    "            rows = results_list.find_all('div', class_='resultsListRow')\n",
    "            \n",
    "            for row in rows:\n",
    "                program_name_column = row.find('div', class_='resultsListColumn programListColumnName')\n",
    "\n",
    "                program_df = pd.DataFrame()\n",
    "                if program_name_column:\n",
    "                    \n",
    "                    program_link_tag = program_name_column.find('a')\n",
    "                    \n",
    "                    if program_link_tag:\n",
    "                        program_name = program_link_tag.text.strip()\n",
    "                        program_url = REL_PATH + program_link_tag['href']\n",
    "                        inspection_url = extract_inspection(program_url)  \n",
    "                        program_pdf_link = extract_pdf(inspection_url) if inspection_url is not None else None\n",
    "                        program_df['program_name'] = [program_name]\n",
    "                        program_df['pdf'] = [program_pdf_link]\n",
    "                        \n",
    "                address_columns = row.findAll(\"div\", class_=\"resultsListColumn\")\n",
    "                if address_columns:\n",
    "                    program_df['Address'] = [address_columns[1].get_text(strip=True)]\n",
    "                    program_df['City'] = [address_columns[2].get_text(strip=True)]\n",
    "                    program_df['Zip'] = [address_columns[3].get_text(strip=True)]\n",
    "                    \n",
    "                # save the current row  information\n",
    "                pdf_urls.append(program_df)\n",
    "\n",
    "            break\n",
    "            \n",
    "        # next page \n",
    "        page_num += 1\n",
    "        \n",
    "    # combine into a single dataframe\n",
    "    url_df = pd.concat(pdf_urls, axis=0) \n",
    "    \n",
    "    # return with the program name as the index\n",
    "    return url_df.set_index(\"program_name\")\n"
   ]
  },
  {
   "cell_type": "code",
   "execution_count": 10,
   "id": "41aaf2df13559053",
   "metadata": {
    "ExecuteTime": {
     "end_time": "2024-12-31T05:52:22.352877Z",
     "start_time": "2024-12-31T05:52:22.344386Z"
    }
   },
   "outputs": [],
   "source": [
    "def download_pdf(pdf_url) -> BytesIO | None:\n",
    "    \"\"\"\n",
    "    Create a temporary pdf file for data extraction \n",
    "    :param pdf_url: pdf to download\n",
    "    :return: BytesIO object containing the pdf or None if invalid URL\n",
    "    \"\"\"\n",
    "\n",
    "    response = requests.get(pdf_url)\n",
    "    if response.status_code == 200:\n",
    "        return BytesIO(response.content)\n",
    "    else:\n",
    "        print(f\"Failed to download PDF: {response.status_code}\")\n",
    "        return None"
   ]
  },
  {
   "cell_type": "markdown",
   "id": "a8015309a4a3ab61",
   "metadata": {},
   "source": [
    "# Extract PDF Links"
   ]
  },
  {
   "cell_type": "code",
   "execution_count": 11,
   "id": "99469d8a35baaf6d",
   "metadata": {
    "ExecuteTime": {
     "end_time": "2024-12-31T05:52:22.365313Z",
     "start_time": "2024-12-31T05:52:22.362386Z"
    }
   },
   "outputs": [],
   "source": [
    "test_link = \"https://childcaresearch.ohio.gov/search?q=fVLNbhMxEN40v0uapgKhHhAiBy6VQkUR1xwWN1VDIVl1V0gFcXDWk42FY6%2b83pS98Q6ICxdeg1fgyBvwJjB2uhCJqrPS2DOf59tvPPZqnuf9RrOrtd0ddCRhyRXMiVqtlBwO3oDOuZKj46On9hsOSCFMoWEkoTCaiuEgLOaCJ%2bdQxuoDyJEshGhaxkfbREcn8ewoAqqTJdHcgOb0MZ7ZC7VacwZ6WqzmoFtEFdKUDcJN2X7LM6IY7FZH4jKD1gU1XKbdkGrDqZjSFbQnckGlyXuXWJvGijGBknszYUuuIz%2fUkCdLpYQfuSVIoX9Cy3y2mGWgkVPJ%2fTNV6O1E8zVQke%2b%2fgIXSsCkjVEN3vAaJGuy%2bE13x1QqD%2b1EGiRUEwHKy5IJZeC%2fWVOaZ0sYR9oMFNv6PqTdbg5Y8XRob3TnlIFiseZYfjKkWpaPBs2z8MUMaJPDPgLLIYO%2f3Qs3X1MA5l9hmihmQB5tBiPK0wCT7q%2bLuK07nXOCVTmReoKIEmtNgfEma0zEJA9wTEqI%2fJaROZkEjINEEB5FKThsThLxaDce5eSPthnejNTudmrOH%2fw3dXesFlSm8e2%2ffV%2b1Gs8jOk%2bNW3bL59cpVL9MFm51V4DdvloHWt3h7q7TtztrIIo0Htwi0IvyWdZbA71jn2%2b5s7rZCp9cNJub4IseS2bUTgYDEAHM8rkUv%2b%2frymV1%2fPf%2fCnC77p9Z25vvn4JtDOhVynfl0%2bPPwh0P8CqmsYu3%2bAQ%3d%3d&p=1\""
   ]
  },
  {
   "cell_type": "code",
   "execution_count": 12,
   "id": "70c2abdda7d806aa",
   "metadata": {
    "ExecuteTime": {
     "end_time": "2024-12-31T05:52:22.399502Z",
     "start_time": "2024-12-31T05:52:22.392717Z"
    }
   },
   "outputs": [
    {
     "data": {
      "text/html": [
       "<div>\n",
       "<style scoped>\n",
       "    .dataframe tbody tr th:only-of-type {\n",
       "        vertical-align: middle;\n",
       "    }\n",
       "\n",
       "    .dataframe tbody tr th {\n",
       "        vertical-align: top;\n",
       "    }\n",
       "\n",
       "    .dataframe thead th {\n",
       "        text-align: right;\n",
       "    }\n",
       "</style>\n",
       "<table border=\"1\" class=\"dataframe\">\n",
       "  <thead>\n",
       "    <tr style=\"text-align: right;\">\n",
       "      <th></th>\n",
       "      <th>pdf</th>\n",
       "      <th>Address</th>\n",
       "      <th>City</th>\n",
       "      <th>Zip</th>\n",
       "    </tr>\n",
       "    <tr>\n",
       "      <th>program_name</th>\n",
       "      <th></th>\n",
       "      <th></th>\n",
       "      <th></th>\n",
       "      <th></th>\n",
       "    </tr>\n",
       "  </thead>\n",
       "  <tbody>\n",
       "    <tr>\n",
       "      <th>A BRIGHT START 4 KIDZ LEARNING CTR</th>\n",
       "      <td>https://childcaresearch.ohio.gov//pdf/00224002...</td>\n",
       "      <td>8211 PLATT</td>\n",
       "      <td>CLEVELAND</td>\n",
       "      <td>44104</td>\n",
       "    </tr>\n",
       "    <tr>\n",
       "      <th>A BRIGHTER START CHILDCARE</th>\n",
       "      <td>https://childcaresearch.ohio.gov//pdf/00000020...</td>\n",
       "      <td>2765 BLUE ROCK RD.</td>\n",
       "      <td>CINCINNATI</td>\n",
       "      <td>45239</td>\n",
       "    </tr>\n",
       "    <tr>\n",
       "      <th>A CHILD'S GARDEN</th>\n",
       "      <td>https://childcaresearch.ohio.gov//pdf/00000020...</td>\n",
       "      <td>5427 JULMAR DRIVE</td>\n",
       "      <td>CINCINNATI</td>\n",
       "      <td>45238</td>\n",
       "    </tr>\n",
       "    <tr>\n",
       "      <th>A CHILD'S JOURNEY LEARNING CENTER</th>\n",
       "      <td>https://childcaresearch.ohio.gov//pdf/00217001...</td>\n",
       "      <td>846 S. YEARLING RD</td>\n",
       "      <td>WHITEHALL</td>\n",
       "      <td>43213</td>\n",
       "    </tr>\n",
       "    <tr>\n",
       "      <th>A CHILD'S PLACE LEARNING CENTER</th>\n",
       "      <td>https://childcaresearch.ohio.gov//pdf/00000040...</td>\n",
       "      <td>2010 OFFICEVIEW PLACE</td>\n",
       "      <td>REYNOLDSBURG</td>\n",
       "      <td>43068</td>\n",
       "    </tr>\n",
       "    <tr>\n",
       "      <th>A GREAT START PRESCHOOL INC</th>\n",
       "      <td>https://childcaresearch.ohio.gov//pdf/00000020...</td>\n",
       "      <td>7001 FAR HILLS AVE</td>\n",
       "      <td>DAYTON</td>\n",
       "      <td>45459</td>\n",
       "    </tr>\n",
       "    <tr>\n",
       "      <th>A JOYFUL JOURNEY ACADEMY</th>\n",
       "      <td>https://childcaresearch.ohio.gov//pdf/00222002...</td>\n",
       "      <td>1536 BARNETT ROAD</td>\n",
       "      <td>COLUMBUS</td>\n",
       "      <td>43227</td>\n",
       "    </tr>\n",
       "    <tr>\n",
       "      <th>A JUBILEE ACADEMY</th>\n",
       "      <td>https://childcaresearch.ohio.gov//pdf/00000030...</td>\n",
       "      <td>15751 LAKESHORE BLVD</td>\n",
       "      <td>CLEVELAND</td>\n",
       "      <td>44110</td>\n",
       "    </tr>\n",
       "    <tr>\n",
       "      <th>A KIDS ONLY EARLY LEARNING CENTER INC. 4</th>\n",
       "      <td>https://childcaresearch.ohio.gov//pdf/00219001...</td>\n",
       "      <td>2505 SOUTH RIDGE EAST</td>\n",
       "      <td>ASHTABULA</td>\n",
       "      <td>44004</td>\n",
       "    </tr>\n",
       "    <tr>\n",
       "      <th>A KIDS ONLY EARLY LEARNING CT INC</th>\n",
       "      <td>https://childcaresearch.ohio.gov//pdf/00000030...</td>\n",
       "      <td>2621 STATE ROAD</td>\n",
       "      <td>ASHTABULA</td>\n",
       "      <td>44004</td>\n",
       "    </tr>\n",
       "    <tr>\n",
       "      <th>A KID'S PLACE CHILDCARE</th>\n",
       "      <td>https://childcaresearch.ohio.gov//pdf/00000030...</td>\n",
       "      <td>30121 LORAIN RD</td>\n",
       "      <td>NORTH OLMSTED</td>\n",
       "      <td>44070</td>\n",
       "    </tr>\n",
       "    <tr>\n",
       "      <th>A LITTLE PIECE OF HEAVEN LEARNING CENTER LLC</th>\n",
       "      <td>https://childcaresearch.ohio.gov//pdf/00000040...</td>\n",
       "      <td>771 HARRISBURG PIKE</td>\n",
       "      <td>COLUMBUS</td>\n",
       "      <td>43223</td>\n",
       "    </tr>\n",
       "    <tr>\n",
       "      <th>A LOVE FOR CHILDREN, LLC</th>\n",
       "      <td>https://childcaresearch.ohio.gov//pdf/00000040...</td>\n",
       "      <td>4656 HEATON ROAD</td>\n",
       "      <td>COLUMBUS</td>\n",
       "      <td>43229</td>\n",
       "    </tr>\n",
       "    <tr>\n",
       "      <th>A MILLION DREAMS LEARNING CENTER</th>\n",
       "      <td>https://childcaresearch.ohio.gov//pdf/00220002...</td>\n",
       "      <td>541 MAIN STREET</td>\n",
       "      <td>MILFORD</td>\n",
       "      <td>45150</td>\n",
       "    </tr>\n",
       "    <tr>\n",
       "      <th>A MOTHER'S LUV EARLY EDUCATION CENTER</th>\n",
       "      <td>https://childcaresearch.ohio.gov//pdf/00223002...</td>\n",
       "      <td>3142 READING RD</td>\n",
       "      <td>CINCINNATI</td>\n",
       "      <td>45229</td>\n",
       "    </tr>\n",
       "    <tr>\n",
       "      <th>A MOTHERS TOUCH LAST FOREVER LLC</th>\n",
       "      <td>https://childcaresearch.ohio.gov//pdf/00219002...</td>\n",
       "      <td>3006/3010 DOUGLAS RD.</td>\n",
       "      <td>TOLEDO</td>\n",
       "      <td>43606</td>\n",
       "    </tr>\n",
       "    <tr>\n",
       "      <th>A PLACE FOR EVERYONE LLC</th>\n",
       "      <td>https://childcaresearch.ohio.gov//pdf/00000010...</td>\n",
       "      <td>5192 DARROW RD</td>\n",
       "      <td>HUDSON</td>\n",
       "      <td>44236</td>\n",
       "    </tr>\n",
       "    <tr>\n",
       "      <th>A PLACE TO GROW ACADEMY</th>\n",
       "      <td>https://childcaresearch.ohio.gov//pdf/00221002...</td>\n",
       "      <td>6760 DISCOVERY BLVD</td>\n",
       "      <td>DUBLIN</td>\n",
       "      <td>43017</td>\n",
       "    </tr>\n",
       "    <tr>\n",
       "      <th>A PLACE TO GROW DAYCARE CENTER AND PRESCHOOL LLC</th>\n",
       "      <td>https://childcaresearch.ohio.gov//pdf/00218001...</td>\n",
       "      <td>115 W ST CLAIR ST # A</td>\n",
       "      <td>EATON</td>\n",
       "      <td>45320</td>\n",
       "    </tr>\n",
       "    <tr>\n",
       "      <th>A PLACE TO LEARN AND GROW INCORPORATED</th>\n",
       "      <td>https://childcaresearch.ohio.gov//pdf/00000010...</td>\n",
       "      <td>407 SIXTH ST NW</td>\n",
       "      <td>CANTON</td>\n",
       "      <td>44702</td>\n",
       "    </tr>\n",
       "  </tbody>\n",
       "</table>\n",
       "</div>"
      ],
      "text/plain": [
       "                                                                                                pdf  \\\n",
       "program_name                                                                                          \n",
       "A BRIGHT START 4 KIDZ LEARNING CTR                https://childcaresearch.ohio.gov//pdf/00224002...   \n",
       "A BRIGHTER START CHILDCARE                        https://childcaresearch.ohio.gov//pdf/00000020...   \n",
       "A CHILD'S GARDEN                                  https://childcaresearch.ohio.gov//pdf/00000020...   \n",
       "A CHILD'S JOURNEY LEARNING CENTER                 https://childcaresearch.ohio.gov//pdf/00217001...   \n",
       "A CHILD'S PLACE LEARNING CENTER                   https://childcaresearch.ohio.gov//pdf/00000040...   \n",
       "A GREAT START PRESCHOOL INC                       https://childcaresearch.ohio.gov//pdf/00000020...   \n",
       "A JOYFUL JOURNEY ACADEMY                          https://childcaresearch.ohio.gov//pdf/00222002...   \n",
       "A JUBILEE ACADEMY                                 https://childcaresearch.ohio.gov//pdf/00000030...   \n",
       "A KIDS ONLY EARLY LEARNING CENTER INC. 4          https://childcaresearch.ohio.gov//pdf/00219001...   \n",
       "A KIDS ONLY EARLY LEARNING CT INC                 https://childcaresearch.ohio.gov//pdf/00000030...   \n",
       "A KID'S PLACE CHILDCARE                           https://childcaresearch.ohio.gov//pdf/00000030...   \n",
       "A LITTLE PIECE OF HEAVEN LEARNING CENTER LLC      https://childcaresearch.ohio.gov//pdf/00000040...   \n",
       "A LOVE FOR CHILDREN, LLC                          https://childcaresearch.ohio.gov//pdf/00000040...   \n",
       "A MILLION DREAMS LEARNING CENTER                  https://childcaresearch.ohio.gov//pdf/00220002...   \n",
       "A MOTHER'S LUV EARLY EDUCATION CENTER             https://childcaresearch.ohio.gov//pdf/00223002...   \n",
       "A MOTHERS TOUCH LAST FOREVER LLC                  https://childcaresearch.ohio.gov//pdf/00219002...   \n",
       "A PLACE FOR EVERYONE LLC                          https://childcaresearch.ohio.gov//pdf/00000010...   \n",
       "A PLACE TO GROW ACADEMY                           https://childcaresearch.ohio.gov//pdf/00221002...   \n",
       "A PLACE TO GROW DAYCARE CENTER AND PRESCHOOL LLC  https://childcaresearch.ohio.gov//pdf/00218001...   \n",
       "A PLACE TO LEARN AND GROW INCORPORATED            https://childcaresearch.ohio.gov//pdf/00000010...   \n",
       "\n",
       "                                                                Address  \\\n",
       "program_name                                                              \n",
       "A BRIGHT START 4 KIDZ LEARNING CTR                           8211 PLATT   \n",
       "A BRIGHTER START CHILDCARE                           2765 BLUE ROCK RD.   \n",
       "A CHILD'S GARDEN                                      5427 JULMAR DRIVE   \n",
       "A CHILD'S JOURNEY LEARNING CENTER                    846 S. YEARLING RD   \n",
       "A CHILD'S PLACE LEARNING CENTER                   2010 OFFICEVIEW PLACE   \n",
       "A GREAT START PRESCHOOL INC                          7001 FAR HILLS AVE   \n",
       "A JOYFUL JOURNEY ACADEMY                              1536 BARNETT ROAD   \n",
       "A JUBILEE ACADEMY                                  15751 LAKESHORE BLVD   \n",
       "A KIDS ONLY EARLY LEARNING CENTER INC. 4          2505 SOUTH RIDGE EAST   \n",
       "A KIDS ONLY EARLY LEARNING CT INC                       2621 STATE ROAD   \n",
       "A KID'S PLACE CHILDCARE                                 30121 LORAIN RD   \n",
       "A LITTLE PIECE OF HEAVEN LEARNING CENTER LLC        771 HARRISBURG PIKE   \n",
       "A LOVE FOR CHILDREN, LLC                               4656 HEATON ROAD   \n",
       "A MILLION DREAMS LEARNING CENTER                        541 MAIN STREET   \n",
       "A MOTHER'S LUV EARLY EDUCATION CENTER                   3142 READING RD   \n",
       "A MOTHERS TOUCH LAST FOREVER LLC                  3006/3010 DOUGLAS RD.   \n",
       "A PLACE FOR EVERYONE LLC                                 5192 DARROW RD   \n",
       "A PLACE TO GROW ACADEMY                             6760 DISCOVERY BLVD   \n",
       "A PLACE TO GROW DAYCARE CENTER AND PRESCHOOL LLC  115 W ST CLAIR ST # A   \n",
       "A PLACE TO LEARN AND GROW INCORPORATED                  407 SIXTH ST NW   \n",
       "\n",
       "                                                           City    Zip  \n",
       "program_name                                                            \n",
       "A BRIGHT START 4 KIDZ LEARNING CTR                    CLEVELAND  44104  \n",
       "A BRIGHTER START CHILDCARE                           CINCINNATI  45239  \n",
       "A CHILD'S GARDEN                                     CINCINNATI  45238  \n",
       "A CHILD'S JOURNEY LEARNING CENTER                     WHITEHALL  43213  \n",
       "A CHILD'S PLACE LEARNING CENTER                    REYNOLDSBURG  43068  \n",
       "A GREAT START PRESCHOOL INC                              DAYTON  45459  \n",
       "A JOYFUL JOURNEY ACADEMY                               COLUMBUS  43227  \n",
       "A JUBILEE ACADEMY                                     CLEVELAND  44110  \n",
       "A KIDS ONLY EARLY LEARNING CENTER INC. 4              ASHTABULA  44004  \n",
       "A KIDS ONLY EARLY LEARNING CT INC                     ASHTABULA  44004  \n",
       "A KID'S PLACE CHILDCARE                           NORTH OLMSTED  44070  \n",
       "A LITTLE PIECE OF HEAVEN LEARNING CENTER LLC           COLUMBUS  43223  \n",
       "A LOVE FOR CHILDREN, LLC                               COLUMBUS  43229  \n",
       "A MILLION DREAMS LEARNING CENTER                        MILFORD  45150  \n",
       "A MOTHER'S LUV EARLY EDUCATION CENTER                CINCINNATI  45229  \n",
       "A MOTHERS TOUCH LAST FOREVER LLC                         TOLEDO  43606  \n",
       "A PLACE FOR EVERYONE LLC                                 HUDSON  44236  \n",
       "A PLACE TO GROW ACADEMY                                  DUBLIN  43017  \n",
       "A PLACE TO GROW DAYCARE CENTER AND PRESCHOOL LLC          EATON  45320  \n",
       "A PLACE TO LEARN AND GROW INCORPORATED                   CANTON  44702  "
      ]
     },
     "execution_count": 12,
     "metadata": {},
     "output_type": "execute_result"
    }
   ],
   "source": [
    "pdf_link_path = \"pdf_links.csv\"\n",
    "\n",
    "if os.path.exists(pdf_link_path):\n",
    "    pdf_links = pd.read_csv(pdf_link_path, index_col=0)\n",
    "else:\n",
    "    pdf_links = extract_all_pdfs(test_link)\n",
    "    pdf_links.to_csv(pdf_link_path, index=True)\n",
    "pdf_links"
   ]
  },
  {
   "cell_type": "code",
   "execution_count": 13,
   "id": "d40da76de505c140",
   "metadata": {
    "ExecuteTime": {
     "end_time": "2024-12-31T05:52:28.651552Z",
     "start_time": "2024-12-31T05:52:22.408621Z"
    }
   },
   "outputs": [
    {
     "data": {
      "text/plain": [
       "'C:\\\\Users\\\\wrb20\\\\AppData\\\\Local\\\\Temp\\\\tmpxcaes5yf'"
      ]
     },
     "execution_count": 13,
     "metadata": {},
     "output_type": "execute_result"
    }
   ],
   "source": [
    "local_file, _ = urllib.request.urlretrieve(pdf_links.iloc[1]['pdf'])\n",
    "local_file"
   ]
  },
  {
   "cell_type": "markdown",
   "id": "e9be54e0c7dd61e8",
   "metadata": {},
   "source": [
    "# Extract Text from PDF"
   ]
  },
  {
   "cell_type": "code",
   "execution_count": 14,
   "id": "7f4089efca49bab",
   "metadata": {
    "ExecuteTime": {
     "end_time": "2024-12-31T05:52:28.655163Z",
     "start_time": "2024-12-31T05:52:28.652555Z"
    }
   },
   "outputs": [],
   "source": [
    "def display_opencv_image(image):\n",
    "    \"\"\"\n",
    "    Convert an OpenCV image (NumPy array) to a PIL image and display it.\n",
    "    \n",
    "    :param image: (numpy array) OpenCV image in BGR format.\n",
    "    \"\"\"\n",
    "    # Convert from BGR (OpenCV default) to RGB (PIL format)\n",
    "    image_rgb = cv2.cvtColor(image, cv2.COLOR_BGR2RGB)\n",
    "    \n",
    "    # Convert NumPy array to PIL Image\n",
    "    pil_image = Image.fromarray(image_rgb)\n",
    "    \n",
    "    # Display the image\n",
    "    pil_image.show()"
   ]
  },
  {
   "cell_type": "code",
   "execution_count": 15,
   "id": "df0a2af5293058c9",
   "metadata": {
    "ExecuteTime": {
     "end_time": "2024-12-31T05:52:28.668034Z",
     "start_time": "2024-12-31T05:52:28.655163Z"
    }
   },
   "outputs": [],
   "source": [
    "def preprocess_image(image, display=False):\n",
    "    \n",
    "    if display: \n",
    "        display_opencv_image(np.array(image))\n",
    "\n",
    "    image = cv2.cvtColor(np.array(image), cv2.COLOR_RGB2BGR)\n",
    "    gray = cv2.cvtColor(image, cv2.COLOR_BGR2GRAY)\n",
    "    blur = cv2.GaussianBlur(gray, (5, 5), 0)\n",
    "    _, thresh = cv2.threshold(blur, 180, 255, cv2.THRESH_BINARY_INV)\n",
    "    processed = thresh\n",
    "\n",
    "    if display: \n",
    "        display_opencv_image(processed)\n",
    "    \n",
    "    return processed"
   ]
  },
  {
   "cell_type": "code",
   "execution_count": 16,
   "id": "67913c058cb69f0e",
   "metadata": {
    "ExecuteTime": {
     "end_time": "2024-12-31T05:52:28.676212Z",
     "start_time": "2024-12-31T05:52:28.669039Z"
    }
   },
   "outputs": [],
   "source": [
    "def draw_hierarchical_rectangles(image, output_path=None):\n",
    "    \"\"\"\n",
    "    Detect and draw hierarchical rectangles on a preprocessed binary image.\n",
    "    \n",
    "    :param image: (PIL.Image.Image) The preprocessed binary image (PIL format).\n",
    "    :param output_path: (str) Path to save the annotated image with rectangles.\n",
    "    \"\"\"\n",
    "\n",
    "    # find all rectangles (fields) in the image \n",
    "    contours, hierarchy = cv2.findContours(image, cv2.RETR_TREE, cv2.CHAIN_APPROX_SIMPLE)\n",
    "\n",
    "    if output_path:\n",
    "        annotated_image = cv2.cvtColor(image, cv2.COLOR_GRAY2BGR)\n",
    "        \n",
    "    sub_rectangles = []\n",
    "\n",
    "    for i, cnt in enumerate(contours):\n",
    "        x, y, w, h = cv2.boundingRect(cnt)\n",
    "\n",
    "        # Parent-child relationship: Sub-rectangles have a parent in the hierarchy\n",
    "        if hierarchy[0][i][3] != -1:\n",
    "            # filter by size to only keep document-field rectangles\n",
    "            if w > 250 and h > 10:  \n",
    "                sub_rectangles.append((x, y, w, h))\n",
    "                if output_path:\n",
    "                    cv2.rectangle(annotated_image, (x, y), (x + w, y + h), (0, 255, 0), 2)\n",
    "\n",
    "    # convert to PIL image for display\n",
    "    if output_path:\n",
    "        annotated_image_pil = Image.fromarray(cv2.cvtColor(annotated_image, cv2.COLOR_BGR2RGB))\n",
    "        annotated_image_pil.save(output_path)\n",
    "        annotated_image_pil.show()\n",
    "\n",
    "    print(f\"Detected {len(sub_rectangles)} hierarchical sub-rectangles.\")\n",
    "    sub_rectangles = sorted(sub_rectangles, key=lambda x: x[0])\n",
    "    sub_rectangles = sorted(sub_rectangles, key=lambda x: x[1])\n",
    "    return sub_rectangles"
   ]
  },
  {
   "cell_type": "code",
   "execution_count": 17,
   "id": "97586fbf39739938",
   "metadata": {
    "ExecuteTime": {
     "end_time": "2024-12-31T05:52:28.685384Z",
     "start_time": "2024-12-31T05:52:28.676212Z"
    }
   },
   "outputs": [],
   "source": [
    "def extract_text_from_subrectangles(ocr, image, sub_rectangles):\n",
    "    \"\"\"\n",
    "    Extract text from sub-rectangles of an image using EasyOCR.\n",
    "    \n",
    "    :param ocr: (easyocr.Reader) EasyOCR reader object.\n",
    "    :param image: The preprocessed binary image (OpenCV format).\n",
    "    :param sub_rectangles: (list) Sorted list of sub-rectangles to extract text from.\n",
    "    :return: (dict) Extracted text from each sub-rectangle. Keys are positions from top-left to bottom-right.\n",
    "    \"\"\"\n",
    "    \n",
    "    if not isinstance(image, np.ndarray):\n",
    "        image = np.array(image)\n",
    "    \n",
    "    # TODO: use a list instead...\n",
    "    extracted_text = [None] * len(sub_rectangles)\n",
    "    \n",
    "    total = 0\n",
    "    fields = 0\n",
    "    total_confidence = 0\n",
    "\n",
    "    for i, (x, y, w, h) in enumerate(sub_rectangles):\n",
    "        sub_image = image[y:y+h, x:x+w]\n",
    "        \n",
    "        extracted_text[i] = ((x, y, w, h), [])\n",
    "\n",
    "        if len(sub_image.shape) == 2:\n",
    "            sub_image = cv2.cvtColor(sub_image, cv2.COLOR_GRAY2RGB)\n",
    "            \n",
    "        # skip empty sub-rectangles (background)\n",
    "        if np.sum(sub_image==0) / sub_image.size < 0.02:\n",
    "            fields += 1\n",
    "            continue \n",
    "\n",
    "        results = ocr.readtext(sub_image)\n",
    "\n",
    "        # try to preprocess the image to improve OCR performance (a bit arbitrary as of now)\n",
    "        if not results:\n",
    "            sub_image = cv2.GaussianBlur(sub_image, (5, 5), 0)\n",
    "            sub_image = cv2.morphologyEx(sub_image, cv2.MORPH_CLOSE, (5, 5), iterations=2)\n",
    "            sub_image = cv2.resize(sub_image, None, fx=2, fy=2, interpolation=cv2.INTER_CUBIC)\n",
    "            results = ocr.readtext(sub_image)\n",
    "\n",
    "        if results:\n",
    "            fields += 1 \n",
    "        else:\n",
    "            # display_opencv_image(sub_image)\n",
    "            print(f\"No text detected in sub-rectangle {i}.\") \n",
    "            \n",
    "        total += max(1, len(results))\n",
    "\n",
    "        # save the extracted text and confidence\n",
    "        for result in results:\n",
    "            bbox, text, confidence = result\n",
    "            extracted_text[i][1].append((text, round(confidence, 2)))\n",
    "            total_confidence += confidence \n",
    "            \n",
    "    print(f\"Extracted {fields} / {len(sub_rectangles)} text fields with an average confidence of {total_confidence / total:.2f}.\")\n",
    "\n",
    "    return extracted_text"
   ]
  },
  {
   "cell_type": "code",
   "execution_count": 18,
   "id": "600c298555b7d535",
   "metadata": {
    "ExecuteTime": {
     "end_time": "2024-12-31T05:52:37.768294Z",
     "start_time": "2024-12-31T05:52:28.686007Z"
    }
   },
   "outputs": [],
   "source": [
    "images = convert_from_path(local_file, dpi=500)"
   ]
  },
  {
   "cell_type": "code",
   "execution_count": 19,
   "id": "2ef53c3d0538b8cd",
   "metadata": {
    "ExecuteTime": {
     "end_time": "2024-12-31T05:52:37.776895Z",
     "start_time": "2024-12-31T05:52:37.770302Z"
    }
   },
   "outputs": [],
   "source": [
    "image = images[0]"
   ]
  },
  {
   "cell_type": "code",
   "execution_count": 20,
   "id": "18a153826e3d230f",
   "metadata": {
    "ExecuteTime": {
     "end_time": "2024-12-31T05:52:37.927042Z",
     "start_time": "2024-12-31T05:52:37.776895Z"
    }
   },
   "outputs": [],
   "source": [
    "preprocessed_image = preprocess_image(image, display=False)"
   ]
  },
  {
   "cell_type": "code",
   "execution_count": 21,
   "id": "6ddee6c7473ca64e",
   "metadata": {
    "ExecuteTime": {
     "end_time": "2024-12-31T05:52:38.851794Z",
     "start_time": "2024-12-31T05:52:37.928100Z"
    }
   },
   "outputs": [
    {
     "name": "stdout",
     "output_type": "stream",
     "text": [
      "Detected 72 hierarchical sub-rectangles.\n"
     ]
    }
   ],
   "source": [
    "sub_rectangles = draw_hierarchical_rectangles(preprocessed_image, output_path=\"hierarchical_rectangles.png\")"
   ]
  },
  {
   "cell_type": "code",
   "execution_count": 22,
   "id": "bd44b72d750e3baf",
   "metadata": {
    "ExecuteTime": {
     "end_time": "2024-12-31T05:52:38.861342Z",
     "start_time": "2024-12-31T05:52:38.853107Z"
    }
   },
   "outputs": [],
   "source": [
    "final_image = cv2.bitwise_not(preprocessed_image)\n",
    "# display_opencv_image(final_image)"
   ]
  },
  {
   "cell_type": "code",
   "execution_count": 23,
   "id": "40612a8ed795f016",
   "metadata": {
    "ExecuteTime": {
     "end_time": "2024-12-31T05:52:43.067949Z",
     "start_time": "2024-12-31T05:52:38.862350Z"
    }
   },
   "outputs": [
    {
     "name": "stderr",
     "output_type": "stream",
     "text": [
      "Neither CUDA nor MPS are available - defaulting to CPU. Note: This module is much faster with a GPU.\n"
     ]
    },
    {
     "name": "stdout",
     "output_type": "stream",
     "text": [
      "No text detected in sub-rectangle 6.\n",
      "Extracted 71 / 72 text fields with an average confidence of 0.91.\n"
     ]
    },
    {
     "data": {
      "text/plain": [
       "[((254, 1261, 3744, 99), [('Program Details', np.float64(0.96))]),\n",
       " ((253, 1365, 1429, 280),\n",
       "  [('Program Name', np.float64(0.65)),\n",
       "   ('A BRIGHTER START CHILDCARE', np.float64(0.99))]),\n",
       " ((1686, 1365, 1340, 280),\n",
       "  [('Program Number', np.float64(0.94)), ('000000200979', np.float64(1.0))]),\n",
       " ((3030, 1365, 969, 280),\n",
       "  [('Program Type', np.float64(1.0)),\n",
       "   ('Child Care Center', np.float64(0.92))]),\n",
       " ((253, 1648, 2773, 374),\n",
       "  [('Address', np.float64(1.0)),\n",
       "   ('2765 BLUE ROCK RD. CINCINNATI', np.float64(0.77)),\n",
       "   ('OH', np.float64(1.0)),\n",
       "   ('45239', np.float64(1.0))]),\n",
       " ((3030, 1648, 969, 374),\n",
       "  [('County', np.float64(1.0)), ('HAMILTON', np.float64(1.0))]),\n",
       " ((254, 2026, 3744, 91), []),\n",
       " ((253, 2122, 1429, 186), [('Building Approval Date', np.float64(0.84))]),\n",
       " ((1686, 2122, 642, 186), [('Use Group/Code', np.float64(0.96))]),\n",
       " ((2332, 2122, 829, 186), [('Occupancy Limit', np.float64(1.0))]),\n",
       " ((3165, 2122, 834, 186), [('Maximum Under 2 Y', np.float64(0.58))]),\n",
       " ((253, 2312, 1429, 186),\n",
       "  [('Fire Inspection Approval Date', np.float64(0.95)),\n",
       "   ('09/20/2024', np.float64(1.0))]),\n",
       " ((1686, 2312, 2313, 186),\n",
       "  [('Food Service Risk Level', np.float64(0.75)),\n",
       "   ('Level II', np.float64(0.7))]),\n",
       " ((254, 2607, 3744, 100), [('Inspection Information', np.float64(0.99))]),\n",
       " ((253, 2712, 1214, 178),\n",
       "  [('Inspection Type', np.float64(1.0)), ('Annual', np.float64(1.0))]),\n",
       " ((1471, 2712, 1153, 178),\n",
       "  [('Inspection Scope', np.float64(0.79)), ('Full', np.float64(0.62))]),\n",
       " ((2627, 2712, 1372, 178),\n",
       "  [('Inspection Notice', np.float64(1.0)), ('Unannounced', np.float64(0.87))]),\n",
       " ((253, 2900, 1214, 179),\n",
       "  [('Inspection Date', np.float64(1.0)), ('10/02/2024', np.float64(0.7))]),\n",
       " ((1471, 2900, 1153, 178),\n",
       "  [('Begin Time', np.float64(0.96)), ('9:00 AM', np.float64(0.99))]),\n",
       " ((2627, 2900, 1372, 179),\n",
       "  [('End Time', np.float64(0.96)), ('11.30 AM', np.float64(0.8))]),\n",
       " ((253, 3082, 3746, 225),\n",
       "  [('Reviewer:', np.float64(1.0)), ('Kristin Blassingame', np.float64(1.0))]),\n",
       " ((254, 3317, 3744, 101), [('Summary of Findings', np.float64(0.87))]),\n",
       " ((253, 3422, 588, 178),\n",
       "  [('No. Rules Verified', np.float64(0.63)), ('58', np.float64(1.0))]),\n",
       " ((845, 3422, 1027, 178),\n",
       "  [('No. Rules with Non-compliances', np.float64(0.62)),\n",
       "   ('10', np.float64(1.0))]),\n",
       " ((1875, 3422, 654, 178), [('No. Serious Risk', np.float64(0.96))]),\n",
       " ((2532, 3422, 715, 178),\n",
       "  [('No. Moderate Risk', np.float64(0.98)), ('2', np.float64(1.0))]),\n",
       " ((3251, 3422, 748, 178),\n",
       "  [('No. Low Risk', np.float64(0.98)), ('9', np.float64(1.0))]),\n",
       " ((254, 3746, 3744, 100),\n",
       "  [('License Capacity and Enrollment at the Time of Inspection',\n",
       "    np.float64(0.9))]),\n",
       " ((253, 3850, 932, 190), [('Age Group', np.float64(0.93))]),\n",
       " ((1189, 3850, 591, 94), [('License Capacity', np.float64(1.0))]),\n",
       " ((1784, 3850, 2215, 94), [('Enrollment', np.float64(1.0))]),\n",
       " ((1189, 3947, 591, 93), [('Totals', np.float64(1.0))]),\n",
       " ((1783, 3947, 372, 93), [('Full Time', np.float64(0.95))]),\n",
       " ((2159, 3947, 660, 93), [('Part Time', np.float64(1.0))]),\n",
       " ((2822, 3947, 1177, 93), [('Total', np.float64(0.71))]),\n",
       " ((253, 4044, 932, 93),\n",
       "  [('Infant', np.float64(1.0)), ('Birth to < 18 m)', np.float64(0.87))]),\n",
       " ((1783, 4044, 372, 93), [('11', np.float64(1.0))]),\n",
       " ((2158, 4044, 661, 93), [('0', np.float64(1.0))]),\n",
       " ((2822, 4044, 1177, 93), [('11', np.float64(1.0))]),\n",
       " ((1190, 4046, 589, 186), []),\n",
       " ((253, 4141, 932, 93), [('Young Toddler', np.float64(0.97))]),\n",
       " ((1783, 4141, 372, 93), [('0', np.float64(1.0))]),\n",
       " ((2158, 4141, 661, 93), [('0', np.float64(1.0))]),\n",
       " ((2822, 4141, 1177, 93), [('0', np.float64(1.0))]),\n",
       " ((253, 4237, 932, 94), [('Total Under 2 %z Years', np.float64(0.59))]),\n",
       " ((1189, 4237, 591, 94), [('21', np.float64(1.0))]),\n",
       " ((1783, 4237, 372, 94), [('11', np.float64(1.0))]),\n",
       " ((2159, 4237, 660, 94), [('0', np.float64(1.0))]),\n",
       " ((2822, 4237, 1177, 94), [('11', np.float64(1.0))]),\n",
       " ((253, 4334, 932, 93), [('Older Toddler', np.float64(0.97))]),\n",
       " ((1783, 4334, 372, 93), [('0', np.float64(1.0))]),\n",
       " ((2159, 4334, 660, 93), [('0', np.float64(1.0))]),\n",
       " ((2822, 4334, 1177, 93), [('0', np.float64(0.69))]),\n",
       " ((1190, 4336, 589, 284), []),\n",
       " ((253, 4431, 932, 94), [('Preschool', np.float64(0.87))]),\n",
       " ((1783, 4431, 372, 94), [('21', np.float64(1.0))]),\n",
       " ((2159, 4431, 660, 94), [('0', np.float64(0.67))]),\n",
       " ((2822, 4431, 1177, 94), [('21', np.float64(1.0))]),\n",
       " ((253, 4529, 932, 92),\n",
       "  [('School', np.float64(1.0)), ('Age', np.float64(1.0))]),\n",
       " ((1783, 4529, 372, 92), [('0', np.float64(0.99))]),\n",
       " ((2158, 4529, 661, 92), [('0', np.float64(1.0))]),\n",
       " ((2822, 4529, 1177, 92), [('0', np.float64(1.0))]),\n",
       " ((253, 4625, 932, 93), [('Total Capacity/Enrollment', np.float64(0.82))]),\n",
       " ((1189, 4625, 591, 93), [('44', np.float64(1.0))]),\n",
       " ((1783, 4625, 372, 93), [('21', np.float64(1.0))]),\n",
       " ((2158, 4625, 661, 93), [('0', np.float64(1.0))]),\n",
       " ((2822, 4625, 1177, 93), [('32', np.float64(1.0))]),\n",
       " ((254, 4873, 3742, 100),\n",
       "  [('Staff-Child Ratios at the Time of Inspection', np.float64(0.87))]),\n",
       " ((253, 4977, 1181, 94), [('Group', np.float64(1.0))]),\n",
       " ((1437, 4977, 1183, 94), [('Age Group/Range', np.float64(0.79))]),\n",
       " ((2623, 4977, 732, 94), [('Ratio Observed', np.float64(0.61))]),\n",
       " ((3359, 4977, 638, 94), [('Comment', np.float64(1.0))])]"
      ]
     },
     "execution_count": 23,
     "metadata": {},
     "output_type": "execute_result"
    }
   ],
   "source": [
    "ocr = easyocr.Reader(['en'], gpu=True)\n",
    "extracted_text = extract_text_from_subrectangles(ocr, final_image, sub_rectangles)\n",
    "extracted_text"
   ]
  },
  {
   "cell_type": "code",
   "execution_count": 24,
   "id": "611a6bf06159f9ea",
   "metadata": {},
   "outputs": [],
   "source": [
    "def group_into_rows(extracted_text, threshold=5):\n",
    "    \"\"\"\n",
    "    Group extracted_text entries into rows based on their y-coordinates.\n",
    "    \n",
    "    :param extracted_text: A list of tuples of the form:\n",
    "                          [ ( (x, y, w, h), [ (text, conf), ... ] ), ... ] \n",
    "                          assumed to be sorted top-to-bottom, left-to-right.\n",
    "    :param threshold:    The distance in pixels to decide when to start a new row.\n",
    "    :return:               A list (rows) of lists, each inner list is one row, \n",
    "                           containing the sub-rectangle data.\n",
    "    \"\"\"\n",
    "    rows = []\n",
    "    current_row = []\n",
    "    if not extracted_text:\n",
    "        return rows\n",
    "    \n",
    "    # start the first row’s baseline from the very first rectangle's y\n",
    "    _, first_data = extracted_text[0]\n",
    "    current_row_y = extracted_text[0][0][1]\n",
    "    current_row_h = extracted_text[0][0][3]\n",
    "\n",
    "    for ((x, y, w, h), text_data) in extracted_text:\n",
    "        \n",
    "        if abs(y - current_row_y) > threshold or abs(h - current_row_h) > threshold:\n",
    "            # push the old row into rows\n",
    "            rows.append(current_row)\n",
    "            # start a new row\n",
    "            current_row = []\n",
    "            current_row_y = y\n",
    "            current_row_h = h\n",
    "\n",
    "        \n",
    "        # add current bounding box/data to the current row\n",
    "        current_row.append(((x, y, w, h), text_data))\n",
    "    \n",
    "    if current_row:\n",
    "        rows.append(current_row)\n",
    "\n",
    "    # sort each row by x-coordinate and remove empty rows\n",
    "    rows = [sorted(r, key=lambda x: x[0][0]) for r in rows if not (len(r) == 1 and len(r[0][1]) == 0)]\n",
    "\n",
    "    return rows"
   ]
  },
  {
   "cell_type": "code",
   "execution_count": 25,
   "id": "f0f599b7",
   "metadata": {},
   "outputs": [
    {
     "data": {
      "text/plain": [
       "[[((254, 1261, 3744, 99), [('Program Details', np.float64(0.96))])],\n",
       " [((253, 1365, 1429, 280),\n",
       "   [('Program Name', np.float64(0.65)),\n",
       "    ('A BRIGHTER START CHILDCARE', np.float64(0.99))]),\n",
       "  ((1686, 1365, 1340, 280),\n",
       "   [('Program Number', np.float64(0.94)), ('000000200979', np.float64(1.0))]),\n",
       "  ((3030, 1365, 969, 280),\n",
       "   [('Program Type', np.float64(1.0)),\n",
       "    ('Child Care Center', np.float64(0.92))])],\n",
       " [((253, 1648, 2773, 374),\n",
       "   [('Address', np.float64(1.0)),\n",
       "    ('2765 BLUE ROCK RD. CINCINNATI', np.float64(0.77)),\n",
       "    ('OH', np.float64(1.0)),\n",
       "    ('45239', np.float64(1.0))]),\n",
       "  ((3030, 1648, 969, 374),\n",
       "   [('County', np.float64(1.0)), ('HAMILTON', np.float64(1.0))])],\n",
       " [((253, 2122, 1429, 186), [('Building Approval Date', np.float64(0.84))]),\n",
       "  ((1686, 2122, 642, 186), [('Use Group/Code', np.float64(0.96))]),\n",
       "  ((2332, 2122, 829, 186), [('Occupancy Limit', np.float64(1.0))]),\n",
       "  ((3165, 2122, 834, 186), [('Maximum Under 2 Y', np.float64(0.58))])],\n",
       " [((253, 2312, 1429, 186),\n",
       "   [('Fire Inspection Approval Date', np.float64(0.95)),\n",
       "    ('09/20/2024', np.float64(1.0))]),\n",
       "  ((1686, 2312, 2313, 186),\n",
       "   [('Food Service Risk Level', np.float64(0.75)),\n",
       "    ('Level II', np.float64(0.7))])],\n",
       " [((254, 2607, 3744, 100), [('Inspection Information', np.float64(0.99))])],\n",
       " [((253, 2712, 1214, 178),\n",
       "   [('Inspection Type', np.float64(1.0)), ('Annual', np.float64(1.0))]),\n",
       "  ((1471, 2712, 1153, 178),\n",
       "   [('Inspection Scope', np.float64(0.79)), ('Full', np.float64(0.62))]),\n",
       "  ((2627, 2712, 1372, 178),\n",
       "   [('Inspection Notice', np.float64(1.0)),\n",
       "    ('Unannounced', np.float64(0.87))])],\n",
       " [((253, 2900, 1214, 179),\n",
       "   [('Inspection Date', np.float64(1.0)), ('10/02/2024', np.float64(0.7))]),\n",
       "  ((1471, 2900, 1153, 178),\n",
       "   [('Begin Time', np.float64(0.96)), ('9:00 AM', np.float64(0.99))]),\n",
       "  ((2627, 2900, 1372, 179),\n",
       "   [('End Time', np.float64(0.96)), ('11.30 AM', np.float64(0.8))])],\n",
       " [((253, 3082, 3746, 225),\n",
       "   [('Reviewer:', np.float64(1.0)),\n",
       "    ('Kristin Blassingame', np.float64(1.0))])],\n",
       " [((254, 3317, 3744, 101), [('Summary of Findings', np.float64(0.87))])],\n",
       " [((253, 3422, 588, 178),\n",
       "   [('No. Rules Verified', np.float64(0.63)), ('58', np.float64(1.0))]),\n",
       "  ((845, 3422, 1027, 178),\n",
       "   [('No. Rules with Non-compliances', np.float64(0.62)),\n",
       "    ('10', np.float64(1.0))]),\n",
       "  ((1875, 3422, 654, 178), [('No. Serious Risk', np.float64(0.96))]),\n",
       "  ((2532, 3422, 715, 178),\n",
       "   [('No. Moderate Risk', np.float64(0.98)), ('2', np.float64(1.0))]),\n",
       "  ((3251, 3422, 748, 178),\n",
       "   [('No. Low Risk', np.float64(0.98)), ('9', np.float64(1.0))])],\n",
       " [((254, 3746, 3744, 100),\n",
       "   [('License Capacity and Enrollment at the Time of Inspection',\n",
       "     np.float64(0.9))])],\n",
       " [((253, 3850, 932, 190), [('Age Group', np.float64(0.93))])],\n",
       " [((1189, 3850, 591, 94), [('License Capacity', np.float64(1.0))]),\n",
       "  ((1784, 3850, 2215, 94), [('Enrollment', np.float64(1.0))])],\n",
       " [((1189, 3947, 591, 93), [('Totals', np.float64(1.0))]),\n",
       "  ((1783, 3947, 372, 93), [('Full Time', np.float64(0.95))]),\n",
       "  ((2159, 3947, 660, 93), [('Part Time', np.float64(1.0))]),\n",
       "  ((2822, 3947, 1177, 93), [('Total', np.float64(0.71))])],\n",
       " [((253, 4044, 932, 93),\n",
       "   [('Infant', np.float64(1.0)), ('Birth to < 18 m)', np.float64(0.87))]),\n",
       "  ((1783, 4044, 372, 93), [('11', np.float64(1.0))]),\n",
       "  ((2158, 4044, 661, 93), [('0', np.float64(1.0))]),\n",
       "  ((2822, 4044, 1177, 93), [('11', np.float64(1.0))])],\n",
       " [((253, 4141, 932, 93), [('Young Toddler', np.float64(0.97))]),\n",
       "  ((1783, 4141, 372, 93), [('0', np.float64(1.0))]),\n",
       "  ((2158, 4141, 661, 93), [('0', np.float64(1.0))]),\n",
       "  ((2822, 4141, 1177, 93), [('0', np.float64(1.0))])],\n",
       " [((253, 4237, 932, 94), [('Total Under 2 %z Years', np.float64(0.59))]),\n",
       "  ((1189, 4237, 591, 94), [('21', np.float64(1.0))]),\n",
       "  ((1783, 4237, 372, 94), [('11', np.float64(1.0))]),\n",
       "  ((2159, 4237, 660, 94), [('0', np.float64(1.0))]),\n",
       "  ((2822, 4237, 1177, 94), [('11', np.float64(1.0))])],\n",
       " [((253, 4334, 932, 93), [('Older Toddler', np.float64(0.97))]),\n",
       "  ((1783, 4334, 372, 93), [('0', np.float64(1.0))]),\n",
       "  ((2159, 4334, 660, 93), [('0', np.float64(1.0))]),\n",
       "  ((2822, 4334, 1177, 93), [('0', np.float64(0.69))])],\n",
       " [((253, 4431, 932, 94), [('Preschool', np.float64(0.87))]),\n",
       "  ((1783, 4431, 372, 94), [('21', np.float64(1.0))]),\n",
       "  ((2159, 4431, 660, 94), [('0', np.float64(0.67))]),\n",
       "  ((2822, 4431, 1177, 94), [('21', np.float64(1.0))])],\n",
       " [((253, 4529, 932, 92),\n",
       "   [('School', np.float64(1.0)), ('Age', np.float64(1.0))]),\n",
       "  ((1783, 4529, 372, 92), [('0', np.float64(0.99))]),\n",
       "  ((2158, 4529, 661, 92), [('0', np.float64(1.0))]),\n",
       "  ((2822, 4529, 1177, 92), [('0', np.float64(1.0))])],\n",
       " [((253, 4625, 932, 93), [('Total Capacity/Enrollment', np.float64(0.82))]),\n",
       "  ((1189, 4625, 591, 93), [('44', np.float64(1.0))]),\n",
       "  ((1783, 4625, 372, 93), [('21', np.float64(1.0))]),\n",
       "  ((2158, 4625, 661, 93), [('0', np.float64(1.0))]),\n",
       "  ((2822, 4625, 1177, 93), [('32', np.float64(1.0))])],\n",
       " [((254, 4873, 3742, 100),\n",
       "   [('Staff-Child Ratios at the Time of Inspection', np.float64(0.87))])],\n",
       " [((253, 4977, 1181, 94), [('Group', np.float64(1.0))]),\n",
       "  ((1437, 4977, 1183, 94), [('Age Group/Range', np.float64(0.79))]),\n",
       "  ((2623, 4977, 732, 94), [('Ratio Observed', np.float64(0.61))]),\n",
       "  ((3359, 4977, 638, 94), [('Comment', np.float64(1.0))])]]"
      ]
     },
     "execution_count": 25,
     "metadata": {},
     "output_type": "execute_result"
    }
   ],
   "source": [
    "rows = group_into_rows(extracted_text)\n",
    "rows"
   ]
  },
  {
   "cell_type": "code",
   "execution_count": 26,
   "id": "85912187",
   "metadata": {},
   "outputs": [],
   "source": [
    "nnn = 14"
   ]
  },
  {
   "cell_type": "code",
   "execution_count": 27,
   "id": "8cc1ea75",
   "metadata": {},
   "outputs": [
    {
     "data": {
      "text/plain": [
       "[((253, 4044, 932, 93),\n",
       "  [('Infant', np.float64(1.0)), ('Birth to < 18 m)', np.float64(0.87))]),\n",
       " ((1783, 4044, 372, 93), [('11', np.float64(1.0))]),\n",
       " ((2158, 4044, 661, 93), [('0', np.float64(1.0))]),\n",
       " ((2822, 4044, 1177, 93), [('11', np.float64(1.0))])]"
      ]
     },
     "execution_count": 27,
     "metadata": {},
     "output_type": "execute_result"
    }
   ],
   "source": [
    "nnn += 1\n",
    "rows[nnn]"
   ]
  },
  {
   "cell_type": "code",
   "execution_count": 28,
   "id": "0764fceb",
   "metadata": {},
   "outputs": [
    {
     "data": {
      "text/plain": [
       "((253, 1365, 1429, 280),\n",
       " [('Program Name', np.float64(0.65)),\n",
       "  ('A BRIGHTER START CHILDCARE', np.float64(0.99))])"
      ]
     },
     "execution_count": 28,
     "metadata": {},
     "output_type": "execute_result"
    }
   ],
   "source": [
    "rows[1][0]"
   ]
  },
  {
   "cell_type": "code",
   "execution_count": 29,
   "id": "73c5966a",
   "metadata": {},
   "outputs": [],
   "source": [
    "p1_fields = [ \"Program Name\",\n",
    "        \"Program Number\",\n",
    "        \"Program Type\",\n",
    "        \"County\",\n",
    "        \"Building Approval Date\",\n",
    "        \"Use Group/Code\",\n",
    "        \"Occupancy Limit\",\n",
    "        \"Maximum Under 2\",   # under 2 1/2 but idk how this will be read...\n",
    "        \"Fire Inspection Approval Date\",\n",
    "        \"Food Service Risk Level\",\n",
    "        \"Inspection Type\",\n",
    "        \"Inspection Scope\",\n",
    "        \"Inspection Notice\",\n",
    "        \"Inspection Date\",\n",
    "        \"Begin Time\",\n",
    "        \"End Time\",\n",
    "        \"Reviewer\",\n",
    "        \"No. Rules Verified\",\n",
    "        \"No. Rules with Non-compliances\",\n",
    "        \"No. Serious Risk\",\n",
    "        \"No. Moderate Risk\",\n",
    "        \"No. Low Risk\"\n",
    "]"
   ]
  },
  {
   "cell_type": "code",
   "execution_count": 30,
   "id": "abe46755d7c2a52",
   "metadata": {
    "ExecuteTime": {
     "end_time": "2024-12-31T06:09:03.112662Z",
     "start_time": "2024-12-31T06:09:03.107587Z"
    }
   },
   "outputs": [],
   "source": [
    "def process_ocr_to_dataframe(ocr_results, fields):\n",
    "    \"\"\"\n",
    "    Process OCR results and flatten the extracted information into a CSV-ready format.\n",
    "\n",
    "    Parameters:\n",
    "    ocr_results (dict): Dictionary of OCR results containing bounding boxes and text.\n",
    "\n",
    "    Returns:\n",
    "    pd.DataFrame: A dataframe containing flattened, structured data for CSV storage.\n",
    "    \"\"\"\n",
    "    extracted_data = {field: None for field in fields}\n",
    "\n",
    "    for field in ocr_results:\n",
    "        if len(field[1]) > 1:\n",
    "            \n",
    "            label, content = field[1][0][0], field[1][-1][0]\n",
    "            confidence = field[1][0][1]\n",
    "\n",
    "            best_match, score = process.extractOne(label, extracted_data.keys())\n",
    "            if score > 95:\n",
    "                if extracted_data[best_match] is not None and extracted_data[best_match] != content:\n",
    "                    print(f\"Field '{best_match}' field changed from '{extracted_data[best_match]}' to '{content}'\")\n",
    "\n",
    "                extracted_data[best_match] = content, confidence\n",
    "\n",
    "    general_df = pd.DataFrame([extracted_data])\n",
    "\n",
    "    general_df[\"Program Name\"] = general_df.apply(lambda x: x[\"Program Name\"][0], axis=1)\n",
    "    general_df.set_index(\"Program Name\", inplace=True)\n",
    "    \n",
    "    # general_df = general_df[sorted(general_df.columns)]\n",
    "\n",
    "    return general_df"
   ]
  },
  {
   "cell_type": "code",
   "execution_count": 31,
   "id": "bc40b945b6cabac5",
   "metadata": {
    "ExecuteTime": {
     "end_time": "2024-12-31T06:09:03.569225Z",
     "start_time": "2024-12-31T06:09:03.499350Z"
    }
   },
   "outputs": [
    {
     "data": {
      "text/html": [
       "<div>\n",
       "<style scoped>\n",
       "    .dataframe tbody tr th:only-of-type {\n",
       "        vertical-align: middle;\n",
       "    }\n",
       "\n",
       "    .dataframe tbody tr th {\n",
       "        vertical-align: top;\n",
       "    }\n",
       "\n",
       "    .dataframe thead th {\n",
       "        text-align: right;\n",
       "    }\n",
       "</style>\n",
       "<table border=\"1\" class=\"dataframe\">\n",
       "  <thead>\n",
       "    <tr style=\"text-align: right;\">\n",
       "      <th></th>\n",
       "      <th>Program Number</th>\n",
       "      <th>Program Type</th>\n",
       "      <th>County</th>\n",
       "      <th>Building Approval Date</th>\n",
       "      <th>Use Group/Code</th>\n",
       "      <th>Occupancy Limit</th>\n",
       "      <th>Maximum Under 2</th>\n",
       "      <th>Fire Inspection Approval Date</th>\n",
       "      <th>Food Service Risk Level</th>\n",
       "      <th>Inspection Type</th>\n",
       "      <th>...</th>\n",
       "      <th>Inspection Notice</th>\n",
       "      <th>Inspection Date</th>\n",
       "      <th>Begin Time</th>\n",
       "      <th>End Time</th>\n",
       "      <th>Reviewer</th>\n",
       "      <th>No. Rules Verified</th>\n",
       "      <th>No. Rules with Non-compliances</th>\n",
       "      <th>No. Serious Risk</th>\n",
       "      <th>No. Moderate Risk</th>\n",
       "      <th>No. Low Risk</th>\n",
       "    </tr>\n",
       "    <tr>\n",
       "      <th>Program Name</th>\n",
       "      <th></th>\n",
       "      <th></th>\n",
       "      <th></th>\n",
       "      <th></th>\n",
       "      <th></th>\n",
       "      <th></th>\n",
       "      <th></th>\n",
       "      <th></th>\n",
       "      <th></th>\n",
       "      <th></th>\n",
       "      <th></th>\n",
       "      <th></th>\n",
       "      <th></th>\n",
       "      <th></th>\n",
       "      <th></th>\n",
       "      <th></th>\n",
       "      <th></th>\n",
       "      <th></th>\n",
       "      <th></th>\n",
       "      <th></th>\n",
       "      <th></th>\n",
       "    </tr>\n",
       "  </thead>\n",
       "  <tbody>\n",
       "    <tr>\n",
       "      <th>A BRIGHTER START CHILDCARE</th>\n",
       "      <td>(000000200979, 0.94)</td>\n",
       "      <td>(Child Care Center, 1.0)</td>\n",
       "      <td>(HAMILTON, 1.0)</td>\n",
       "      <td>None</td>\n",
       "      <td>None</td>\n",
       "      <td>None</td>\n",
       "      <td>None</td>\n",
       "      <td>(09/20/2024, 0.95)</td>\n",
       "      <td>(Level II, 0.75)</td>\n",
       "      <td>(Annual, 1.0)</td>\n",
       "      <td>...</td>\n",
       "      <td>(Unannounced, 1.0)</td>\n",
       "      <td>(10/02/2024, 1.0)</td>\n",
       "      <td>(9:00 AM, 0.96)</td>\n",
       "      <td>(11.30 AM, 0.96)</td>\n",
       "      <td>(Kristin Blassingame, 1.0)</td>\n",
       "      <td>(58, 0.63)</td>\n",
       "      <td>(10, 0.62)</td>\n",
       "      <td>None</td>\n",
       "      <td>(2, 0.98)</td>\n",
       "      <td>(9, 0.98)</td>\n",
       "    </tr>\n",
       "  </tbody>\n",
       "</table>\n",
       "<p>1 rows × 21 columns</p>\n",
       "</div>"
      ],
      "text/plain": [
       "                                  Program Number              Program Type  \\\n",
       "Program Name                                                                 \n",
       "A BRIGHTER START CHILDCARE  (000000200979, 0.94)  (Child Care Center, 1.0)   \n",
       "\n",
       "                                     County Building Approval Date  \\\n",
       "Program Name                                                         \n",
       "A BRIGHTER START CHILDCARE  (HAMILTON, 1.0)                   None   \n",
       "\n",
       "                           Use Group/Code Occupancy Limit Maximum Under 2  \\\n",
       "Program Name                                                                \n",
       "A BRIGHTER START CHILDCARE           None            None            None   \n",
       "\n",
       "                           Fire Inspection Approval Date  \\\n",
       "Program Name                                               \n",
       "A BRIGHTER START CHILDCARE            (09/20/2024, 0.95)   \n",
       "\n",
       "                           Food Service Risk Level Inspection Type  ...  \\\n",
       "Program Name                                                        ...   \n",
       "A BRIGHTER START CHILDCARE        (Level II, 0.75)   (Annual, 1.0)  ...   \n",
       "\n",
       "                             Inspection Notice    Inspection Date  \\\n",
       "Program Name                                                        \n",
       "A BRIGHTER START CHILDCARE  (Unannounced, 1.0)  (10/02/2024, 1.0)   \n",
       "\n",
       "                                 Begin Time          End Time  \\\n",
       "Program Name                                                    \n",
       "A BRIGHTER START CHILDCARE  (9:00 AM, 0.96)  (11.30 AM, 0.96)   \n",
       "\n",
       "                                              Reviewer No. Rules Verified  \\\n",
       "Program Name                                                                \n",
       "A BRIGHTER START CHILDCARE  (Kristin Blassingame, 1.0)         (58, 0.63)   \n",
       "\n",
       "                           No. Rules with Non-compliances No. Serious Risk  \\\n",
       "Program Name                                                                 \n",
       "A BRIGHTER START CHILDCARE                     (10, 0.62)             None   \n",
       "\n",
       "                           No. Moderate Risk No. Low Risk  \n",
       "Program Name                                               \n",
       "A BRIGHTER START CHILDCARE         (2, 0.98)    (9, 0.98)  \n",
       "\n",
       "[1 rows x 21 columns]"
      ]
     },
     "execution_count": 31,
     "metadata": {},
     "output_type": "execute_result"
    }
   ],
   "source": [
    "process_ocr_to_dataframe(extracted_text, p1_fields)"
   ]
  },
  {
   "cell_type": "code",
   "execution_count": 52,
   "id": "10582c46c5504abc",
   "metadata": {
    "ExecuteTime": {
     "end_time": "2024-12-31T05:52:43.167583Z",
     "start_time": "2024-12-31T05:52:43.164465Z"
    }
   },
   "outputs": [
    {
     "data": {
      "text/plain": [
       "{'License Capacity': {'Total Under 2': [('21', np.float64(1.0))],\n",
       "  'Total Capacity/Enrollment': [('44', np.float64(1.0))]},\n",
       " 'Infant': {'Full Time': ('11', np.float64(1.0)),\n",
       "  'Part Time': ('0', np.float64(1.0)),\n",
       "  'Total': ('11', np.float64(1.0))},\n",
       " 'Young Toddler': {'Full Time': ('0', np.float64(1.0)),\n",
       "  'Part Time': ('0', np.float64(1.0)),\n",
       "  'Total': ('0', np.float64(1.0))},\n",
       " 'Total Under 2': {'Full Time': ('11', np.float64(1.0)),\n",
       "  'Part Time': ('0', np.float64(1.0)),\n",
       "  'Total': ('11', np.float64(1.0))},\n",
       " 'Older Toddler': {'Full Time': ('0', np.float64(1.0)),\n",
       "  'Part Time': ('0', np.float64(1.0)),\n",
       "  'Total': ('0', np.float64(0.69))},\n",
       " 'Preschool': {'Full Time': ('21', np.float64(1.0)),\n",
       "  'Part Time': ('0', np.float64(0.67)),\n",
       "  'Total': ('21', np.float64(1.0))},\n",
       " 'School': {'Full Time': ('0', np.float64(0.99)),\n",
       "  'Part Time': ('0', np.float64(1.0)),\n",
       "  'Total': ('0', np.float64(1.0))},\n",
       " 'Total Capacity/Enrollment': {'Full Time': ('21', np.float64(1.0)),\n",
       "  'Part Time': ('0', np.float64(1.0)),\n",
       "  'Total': ('32', np.float64(1.0))}}"
      ]
     },
     "execution_count": 52,
     "metadata": {},
     "output_type": "execute_result"
    }
   ],
   "source": [
    "def get_row(rows, field, start_idx=0):\n",
    "    idx = start_idx\n",
    "    i = start_idx\n",
    "\n",
    "    while i < len(rows) and idx == start_idx:\n",
    "        row = rows[i][0][1][0][0]\n",
    "        if field in row or row in field:\n",
    "            idx = i\n",
    "\n",
    "        # else: \n",
    "            # print(f\"Field: {field} and Row: {row}\")\n",
    "        \n",
    "        i += 1\n",
    "\n",
    "    if idx == start_idx:\n",
    "        print(f\"Field '{field}' not found in rows.\")\n",
    "\n",
    "    return idx\n",
    "\n",
    "def extract_license_capacity_table(extracted_text):\n",
    "    rows = group_into_rows(extracted_text)\n",
    "\n",
    "    table_rows = [\n",
    "        \"Infant\",\n",
    "        \"Young Toddler\",\n",
    "        \"Total Under 2\",\n",
    "        \"Older Toddler\",\n",
    "        \"Preschool\",\n",
    "        \"School\",\n",
    "        \"Total Capacity/Enrollment\"]\n",
    "\n",
    "    columns = [\n",
    "        \"Full Time\",\n",
    "        \"Part Time\",\n",
    "        \"Total\"\n",
    "    ]\n",
    "\n",
    "    table = {\"License Capacity\": {}}\n",
    "\n",
    "    row_idx = 0\n",
    "\n",
    "    for i, t_row in enumerate(table_rows):\n",
    "\n",
    "        prev = row_idx\n",
    "        row_idx = get_row(rows, t_row, row_idx)\n",
    "\n",
    "        if row_idx == prev:\n",
    "            continue\n",
    "\n",
    "        current_row = rows[row_idx]\n",
    "\n",
    "        # save license capacity totals\n",
    "        if len(current_row) > len(columns) + 1:\n",
    "           table[\"License Capacity\"][t_row] = current_row[1][1]\n",
    "           current_row = current_row[2:]\n",
    "        else:\n",
    "            current_row = current_row[1:]\n",
    "\n",
    "        table[t_row] = {columns[i]: field[1][0] for i, field in enumerate(current_row)}\n",
    "\n",
    "    return table\n",
    "\n",
    "extract_license_capacity_table(extracted_text)"
   ]
  },
  {
   "cell_type": "code",
   "execution_count": 33,
   "id": "f8413ca6",
   "metadata": {},
   "outputs": [
    {
     "data": {
      "text/plain": [
       "[((253, 4044, 932, 93),\n",
       "  [('Infant', np.float64(1.0)), ('Birth to < 18 m)', np.float64(0.87))]),\n",
       " ((1783, 4044, 372, 93), [('11', np.float64(1.0))]),\n",
       " ((2158, 4044, 661, 93), [('0', np.float64(1.0))]),\n",
       " ((2822, 4044, 1177, 93), [('11', np.float64(1.0))])]"
      ]
     },
     "execution_count": 33,
     "metadata": {},
     "output_type": "execute_result"
    }
   ],
   "source": [
    "rows[15]"
   ]
  },
  {
   "cell_type": "code",
   "execution_count": null,
   "id": "8a79df33",
   "metadata": {},
   "outputs": [],
   "source": []
  }
 ],
 "metadata": {
  "kernelspec": {
   "display_name": "venv",
   "language": "python",
   "name": "python3"
  },
  "language_info": {
   "codemirror_mode": {
    "name": "ipython",
    "version": 3
   },
   "file_extension": ".py",
   "mimetype": "text/x-python",
   "name": "python",
   "nbconvert_exporter": "python",
   "pygments_lexer": "ipython3",
   "version": "3.11.0"
  }
 },
 "nbformat": 4,
 "nbformat_minor": 5
}
