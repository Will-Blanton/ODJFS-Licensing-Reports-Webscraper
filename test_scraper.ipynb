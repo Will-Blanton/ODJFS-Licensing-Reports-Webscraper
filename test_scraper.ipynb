{
 "cells": [
  {
   "cell_type": "code",
   "id": "initial_id",
   "metadata": {
    "collapsed": true,
    "ExecuteTime": {
     "end_time": "2024-12-22T23:15:02.552160Z",
     "start_time": "2024-12-22T23:15:02.548662Z"
    }
   },
   "source": [
    "import cv2\n",
    "import numpy as np\n",
    "import pandas as pd\n",
    "import requests\n",
    "import torch\n",
    "import os\n",
    "import re\n",
    "import urllib.request\n",
    "\n",
    "\n",
    "from pdf2image import convert_from_path\n",
    "from bs4 import BeautifulSoup\n",
    "from datetime import datetime\n",
    "from PIL import Image\n",
    "from io import BytesIO"
   ],
   "outputs": [],
   "execution_count": 18
  },
  {
   "metadata": {
    "ExecuteTime": {
     "end_time": "2024-12-22T22:55:00.019938Z",
     "start_time": "2024-12-22T22:54:59.992035Z"
    }
   },
   "cell_type": "code",
   "source": [
    "print(f\"CUDA Available: {torch.cuda.is_available()}\")\n",
    "\n",
    "# Check if CuDNN is enabled in PyTorch\n",
    "print(f\"CuDNN Enabled: {torch.backends.cudnn.enabled}\")\n",
    "\n",
    "# Check CuDNN version in PyTorch\n",
    "print(f\"CuDNN Version: {torch.backends.cudnn.version()}\")"
   ],
   "id": "5e63cd8ce4cd8a11",
   "outputs": [
    {
     "name": "stdout",
     "output_type": "stream",
     "text": [
      "CUDA Available: True\n",
      "CuDNN Enabled: True\n",
      "CuDNN Version: 90100\n"
     ]
    }
   ],
   "execution_count": 2
  },
  {
   "metadata": {},
   "cell_type": "markdown",
   "source": "# Link and File Paths",
   "id": "fa45a4c2e2fbe6f7"
  },
  {
   "metadata": {
    "ExecuteTime": {
     "end_time": "2024-12-22T22:55:00.026585Z",
     "start_time": "2024-12-22T22:55:00.020942Z"
    }
   },
   "cell_type": "code",
   "source": [
    "ODCY_LINK = \"https://childcaresearch.ohio.gov/search?q=fVLNbhMxEN40v0uapgKhHhAiBy6VQkUR1xwWN1VDIVl1V0gFcXDWk42FY6%2b83pS98Q6ICxdeg1fgyBvwJjB2uhCJqrPS2DOf59tvPPZqnuf9RrOrtd0ddCRhyRXMiVqtlBwO3oDOuZKj46On9hsOSCFMoWEkoTCaiuEgLOaCJ%2bdQxuoDyJEshGhaxkfbREcn8ewoAqqTJdHcgOb0MZ7ZC7VacwZ6WqzmoFtEFdKUDcJN2X7LM6IY7FZH4jKD1gU1XKbdkGrDqZjSFbQnckGlyXuXWJvGijGBknszYUuuIz%2fUkCdLpYQfuSVIoX9Cy3y2mGWgkVPJ%2fTNV6O1E8zVQke%2b%2fgIXSsCkjVEN3vAaJGuy%2bE13x1QqD%2b1EGiRUEwHKy5IJZeC%2fWVOaZ0sYR9oMFNv6PqTdbg5Y8XRob3TnlIFiseZYfjKkWpaPBs2z8MUMaJPDPgLLIYO%2f3Qs3X1MA5l9hmihmQB5tBiPK0wCT7q%2bLuK07nXOCVTmReoKIEmtNgfEma0zEJA9wTEqI%2fJaROZkEjINEEB5FKThsThLxaDce5eSPthnejNTudmrOH%2fw3dXesFlSm8e2%2ffV%2b1Gs8jOk%2bNW3bL59cpVL9MFm51V4DdvloHWt3h7q7TtztrIIo0Htwi0IvyWdZbA71jn2%2b5s7rZCp9cNJub4IseS2bUTgYDEAHM8rkUv%2b%2frymV1%2fPf%2fCnC77p9Z25vvn4JtDOhVynfl0%2bPPwh0P8CqmsYu3%2bAQ%3d%3d\"\n",
    "\n",
    "REL_PATH = \"https://childcaresearch.ohio.gov/\""
   ],
   "id": "9660cd02c29e86ea",
   "outputs": [],
   "execution_count": 3
  },
  {
   "metadata": {},
   "cell_type": "markdown",
   "source": "# Helper Functions",
   "id": "5812669b91e451a3"
  },
  {
   "metadata": {
    "ExecuteTime": {
     "end_time": "2024-12-22T22:55:00.035334Z",
     "start_time": "2024-12-22T22:55:00.027589Z"
    }
   },
   "cell_type": "code",
   "source": [
    "def extract_html(url):\n",
    "    \"\"\"\n",
    "    Parse the html at the given url into a beautiful soup object, for manipulation.\n",
    "    \n",
    "    :param url: Any valid URL\n",
    "    :return: the parsed HTML or None if the request failed\n",
    "    \"\"\" \n",
    "    \n",
    "    response = requests.get(url)\n",
    "    \n",
    "    # check if the request was successful (status code 200)\n",
    "    if response.status_code == 200:\n",
    "\n",
    "        # parse the HTML content \n",
    "        soup = BeautifulSoup(response.text, 'html.parser')\n",
    "        \n",
    "        return soup\n",
    "    else:\n",
    "        print(f\"Failed to retrieve page, status code: {response.status_code}\")\n",
    "        return None"
   ],
   "id": "53076a6116606ac8",
   "outputs": [],
   "execution_count": 4
  },
  {
   "metadata": {
    "ExecuteTime": {
     "end_time": "2024-12-22T22:55:00.040052Z",
     "start_time": "2024-12-22T22:55:00.037339Z"
    }
   },
   "cell_type": "code",
   "source": [
    "def extract_inspection(url):\n",
    "    \"\"\"\n",
    "    Extract the inspection link from the childcare center page\n",
    "    \n",
    "    :param url: the child care center page\n",
    "    :return: the inspection page link\n",
    "    \"\"\"\n",
    "    inspection_url = None\n",
    "\n",
    "    # get the html for the program page\n",
    "    program_page = extract_html(url)\n",
    "\n",
    "    if program_page:\n",
    "        inspection_button_span = program_page.find('span', class_='inspectionsButton')\n",
    "\n",
    "        if inspection_button_span:\n",
    "            inspection_link_tag = inspection_button_span.find_parent('a')\n",
    "\n",
    "            if inspection_link_tag and 'href' in inspection_link_tag.attrs:\n",
    "                inspection_url = REL_PATH + inspection_link_tag['href']\n",
    "                \n",
    "    return inspection_url"
   ],
   "id": "163a2af7a3783457",
   "outputs": [],
   "execution_count": 5
  },
  {
   "metadata": {
    "ExecuteTime": {
     "end_time": "2024-12-22T22:55:00.046315Z",
     "start_time": "2024-12-22T22:55:00.041056Z"
    }
   },
   "cell_type": "code",
   "source": [
    "def extract_pdf(url) -> str:\n",
    "    \"\"\"\n",
    "    Extract the pdf link from the inspection page\n",
    "    :param url: inspection url\n",
    "    :return: the pdf link\n",
    "    \"\"\"\n",
    "\n",
    "    inspection_page = extract_html(url)\n",
    "    most_recent_pdf_link = None\n",
    "    most_recent_date = None\n",
    "    \n",
    "    if inspection_page is not None:\n",
    "        rows = inspection_page.find_all('div', class_='resultsListRow')\n",
    "        \n",
    "        for row in rows:\n",
    "            date_column = row.find('div', class_='resultsListColumn')\n",
    "\n",
    "            pdf_col = row.find('span', class_='inspectionPDFlink') \n",
    "            pdf_link_tag = pdf_col.find('a', href=True)\n",
    "            \n",
    "            if pdf_link_tag and date_column:\n",
    "                \n",
    "                # format into a datetime object for date comparisons\n",
    "                inspection_date = list(date_column)[2].strip()\n",
    "                inspection_date = datetime.strptime(inspection_date, \"%m/%d/%Y\")\n",
    "                pdf_link = pdf_link_tag['href']\n",
    "                \n",
    "                # only save the most recent date (may not be necessary, since all appear to be listed in order. Adds robustness though...)\n",
    "                if most_recent_date is None or inspection_date > most_recent_date:\n",
    "                    most_recent_date = inspection_date\n",
    "                    most_recent_pdf_link = REL_PATH + pdf_link\n",
    "    \n",
    "    return most_recent_pdf_link"
   ],
   "id": "95652803b7566d25",
   "outputs": [],
   "execution_count": 6
  },
  {
   "metadata": {
    "ExecuteTime": {
     "end_time": "2024-12-22T22:55:00.055973Z",
     "start_time": "2024-12-22T22:55:00.047319Z"
    }
   },
   "cell_type": "code",
   "source": [
    "def extract_all_pdfs(url) -> pd.DataFrame:\n",
    "    \"\"\"\n",
    "    Extract all pdf links and associated center info (e.g., name and address info) into a dataFrame for further parsing.\n",
    "    \n",
    "    :param url: The Ohio childcaresearch website URL (https://childcaresearch.ohio.gov/search for licensed childcare)\n",
    "    :return: a dataframe containing the center name, address info, and link to the pdf for the most recent center licensing inspection\n",
    "    \"\"\"\n",
    "\n",
    "    pdf_urls = []\n",
    "    main_page = None\n",
    "    page_num = 1\n",
    "    \n",
    "    # loop for all available pages\n",
    "    while not (pdf_urls and main_page is None):\n",
    "        \n",
    "        # get the current page of results\n",
    "        main_page = extract_html(f\"{url}&{page_num}\")\n",
    "        \n",
    "        if main_page is not None:\n",
    "            # get all results rows for further processing\n",
    "            results_list = main_page.find('div', class_='resultsList') \n",
    "            rows = results_list.find_all('div', class_='resultsListRow')\n",
    "            \n",
    "            for row in rows:\n",
    "                program_name_column = row.find('div', class_='resultsListColumn programListColumnName')\n",
    "\n",
    "                program_df = pd.DataFrame()\n",
    "                if program_name_column:\n",
    "                    \n",
    "                    program_link_tag = program_name_column.find('a')\n",
    "                    \n",
    "                    if program_link_tag:\n",
    "                        program_name = program_link_tag.text.strip()\n",
    "                        program_url = REL_PATH + program_link_tag['href']\n",
    "                        inspection_url = extract_inspection(program_url)  \n",
    "                        program_pdf_link = extract_pdf(inspection_url) if inspection_url is not None else None\n",
    "                        program_df['program_name'] = [program_name]\n",
    "                        program_df['pdf'] = [program_pdf_link]\n",
    "                        \n",
    "                address_columns = row.findAll(\"div\", class_=\"resultsListColumn\")\n",
    "                if address_columns:\n",
    "                    program_df['Address'] = [address_columns[1].get_text(strip=True)]\n",
    "                    program_df['City'] = [address_columns[2].get_text(strip=True)]\n",
    "                    program_df['Zip'] = [address_columns[3].get_text(strip=True)]\n",
    "                    \n",
    "                # save the current row  information\n",
    "                pdf_urls.append(program_df)\n",
    "\n",
    "            break\n",
    "            \n",
    "        # next page \n",
    "        page_num += 1\n",
    "        \n",
    "    # combine into a single dataframe\n",
    "    url_df = pd.concat(pdf_urls, axis=0) \n",
    "    \n",
    "    # return with the program name as the index\n",
    "    return url_df.set_index(\"program_name\")\n"
   ],
   "id": "617ba97567b5bfba",
   "outputs": [],
   "execution_count": 7
  },
  {
   "metadata": {
    "ExecuteTime": {
     "end_time": "2024-12-22T22:55:00.061643Z",
     "start_time": "2024-12-22T22:55:00.056977Z"
    }
   },
   "cell_type": "code",
   "source": [
    "def download_pdf(pdf_url) -> BytesIO | None:\n",
    "    \"\"\"\n",
    "    Create a temporary pdf file for data extraction \n",
    "    :param pdf_url: pdf to download\n",
    "    :return: BytesIO object containing the pdf or None if invalid URL\n",
    "    \"\"\"\n",
    "\n",
    "    response = requests.get(pdf_url)\n",
    "    if response.status_code == 200:\n",
    "        return BytesIO(response.content)\n",
    "    else:\n",
    "        print(f\"Failed to download PDF: {response.status_code}\")\n",
    "        return None"
   ],
   "id": "41aaf2df13559053",
   "outputs": [],
   "execution_count": 8
  },
  {
   "metadata": {},
   "cell_type": "markdown",
   "source": "# Extract PDF Links",
   "id": "a8015309a4a3ab61"
  },
  {
   "metadata": {
    "ExecuteTime": {
     "end_time": "2024-12-22T22:55:00.067790Z",
     "start_time": "2024-12-22T22:55:00.061643Z"
    }
   },
   "cell_type": "code",
   "source": "test_link = \"https://childcaresearch.ohio.gov/search?q=fVLNbhMxEN40v0uapgKhHhAiBy6VQkUR1xwWN1VDIVl1V0gFcXDWk42FY6%2b83pS98Q6ICxdeg1fgyBvwJjB2uhCJqrPS2DOf59tvPPZqnuf9RrOrtd0ddCRhyRXMiVqtlBwO3oDOuZKj46On9hsOSCFMoWEkoTCaiuEgLOaCJ%2bdQxuoDyJEshGhaxkfbREcn8ewoAqqTJdHcgOb0MZ7ZC7VacwZ6WqzmoFtEFdKUDcJN2X7LM6IY7FZH4jKD1gU1XKbdkGrDqZjSFbQnckGlyXuXWJvGijGBknszYUuuIz%2fUkCdLpYQfuSVIoX9Cy3y2mGWgkVPJ%2fTNV6O1E8zVQke%2b%2fgIXSsCkjVEN3vAaJGuy%2bE13x1QqD%2b1EGiRUEwHKy5IJZeC%2fWVOaZ0sYR9oMFNv6PqTdbg5Y8XRob3TnlIFiseZYfjKkWpaPBs2z8MUMaJPDPgLLIYO%2f3Qs3X1MA5l9hmihmQB5tBiPK0wCT7q%2bLuK07nXOCVTmReoKIEmtNgfEma0zEJA9wTEqI%2fJaROZkEjINEEB5FKThsThLxaDce5eSPthnejNTudmrOH%2fw3dXesFlSm8e2%2ffV%2b1Gs8jOk%2bNW3bL59cpVL9MFm51V4DdvloHWt3h7q7TtztrIIo0Htwi0IvyWdZbA71jn2%2b5s7rZCp9cNJub4IseS2bUTgYDEAHM8rkUv%2b%2frymV1%2fPf%2fCnC77p9Z25vvn4JtDOhVynfl0%2bPPwh0P8CqmsYu3%2bAQ%3d%3d&p=1\"",
   "id": "99469d8a35baaf6d",
   "outputs": [],
   "execution_count": 9
  },
  {
   "metadata": {
    "ExecuteTime": {
     "end_time": "2024-12-22T22:55:00.182174Z",
     "start_time": "2024-12-22T22:55:00.068793Z"
    }
   },
   "cell_type": "code",
   "source": [
    "pdf_link_path = \"pdf_links.csv\"\n",
    "\n",
    "if os.path.exists(pdf_link_path):\n",
    "    pdf_links = pd.read_csv(pdf_link_path, index_col=0)\n",
    "else:\n",
    "    pdf_links = extract_all_pdfs(test_link)\n",
    "    pdf_links.to_csv(pdf_link_path, index=True)\n",
    "pdf_links"
   ],
   "id": "70c2abdda7d806aa",
   "outputs": [
    {
     "data": {
      "text/plain": [
       "                                                                                                pdf  \\\n",
       "program_name                                                                                          \n",
       "A BRIGHT START 4 KIDZ LEARNING CTR                https://childcaresearch.ohio.gov//pdf/00224002...   \n",
       "A BRIGHTER START CHILDCARE                        https://childcaresearch.ohio.gov//pdf/00000020...   \n",
       "A CHILD'S GARDEN                                  https://childcaresearch.ohio.gov//pdf/00000020...   \n",
       "A CHILD'S JOURNEY LEARNING CENTER                 https://childcaresearch.ohio.gov//pdf/00217001...   \n",
       "A CHILD'S PLACE LEARNING CENTER                   https://childcaresearch.ohio.gov//pdf/00000040...   \n",
       "A GREAT START PRESCHOOL INC                       https://childcaresearch.ohio.gov//pdf/00000020...   \n",
       "A JOYFUL JOURNEY ACADEMY                          https://childcaresearch.ohio.gov//pdf/00222002...   \n",
       "A JUBILEE ACADEMY                                 https://childcaresearch.ohio.gov//pdf/00000030...   \n",
       "A KIDS ONLY EARLY LEARNING CENTER INC. 4          https://childcaresearch.ohio.gov//pdf/00219001...   \n",
       "A KIDS ONLY EARLY LEARNING CT INC                 https://childcaresearch.ohio.gov//pdf/00000030...   \n",
       "A KID'S PLACE CHILDCARE                           https://childcaresearch.ohio.gov//pdf/00000030...   \n",
       "A LITTLE PIECE OF HEAVEN LEARNING CENTER LLC      https://childcaresearch.ohio.gov//pdf/00000040...   \n",
       "A LOVE FOR CHILDREN, LLC                          https://childcaresearch.ohio.gov//pdf/00000040...   \n",
       "A MILLION DREAMS LEARNING CENTER                  https://childcaresearch.ohio.gov//pdf/00220002...   \n",
       "A MOTHER'S LUV EARLY EDUCATION CENTER             https://childcaresearch.ohio.gov//pdf/00223002...   \n",
       "A MOTHERS TOUCH LAST FOREVER LLC                  https://childcaresearch.ohio.gov//pdf/00219002...   \n",
       "A PLACE FOR EVERYONE LLC                          https://childcaresearch.ohio.gov//pdf/00000010...   \n",
       "A PLACE TO GROW ACADEMY                           https://childcaresearch.ohio.gov//pdf/00221002...   \n",
       "A PLACE TO GROW DAYCARE CENTER AND PRESCHOOL LLC  https://childcaresearch.ohio.gov//pdf/00218001...   \n",
       "A PLACE TO LEARN AND GROW INCORPORATED            https://childcaresearch.ohio.gov//pdf/00000010...   \n",
       "\n",
       "                                                                Address  \\\n",
       "program_name                                                              \n",
       "A BRIGHT START 4 KIDZ LEARNING CTR                           8211 PLATT   \n",
       "A BRIGHTER START CHILDCARE                           2765 BLUE ROCK RD.   \n",
       "A CHILD'S GARDEN                                      5427 JULMAR DRIVE   \n",
       "A CHILD'S JOURNEY LEARNING CENTER                    846 S. YEARLING RD   \n",
       "A CHILD'S PLACE LEARNING CENTER                   2010 OFFICEVIEW PLACE   \n",
       "A GREAT START PRESCHOOL INC                          7001 FAR HILLS AVE   \n",
       "A JOYFUL JOURNEY ACADEMY                              1536 BARNETT ROAD   \n",
       "A JUBILEE ACADEMY                                  15751 LAKESHORE BLVD   \n",
       "A KIDS ONLY EARLY LEARNING CENTER INC. 4          2505 SOUTH RIDGE EAST   \n",
       "A KIDS ONLY EARLY LEARNING CT INC                       2621 STATE ROAD   \n",
       "A KID'S PLACE CHILDCARE                                 30121 LORAIN RD   \n",
       "A LITTLE PIECE OF HEAVEN LEARNING CENTER LLC        771 HARRISBURG PIKE   \n",
       "A LOVE FOR CHILDREN, LLC                               4656 HEATON ROAD   \n",
       "A MILLION DREAMS LEARNING CENTER                        541 MAIN STREET   \n",
       "A MOTHER'S LUV EARLY EDUCATION CENTER                   3142 READING RD   \n",
       "A MOTHERS TOUCH LAST FOREVER LLC                  3006/3010 DOUGLAS RD.   \n",
       "A PLACE FOR EVERYONE LLC                                 5192 DARROW RD   \n",
       "A PLACE TO GROW ACADEMY                             6760 DISCOVERY BLVD   \n",
       "A PLACE TO GROW DAYCARE CENTER AND PRESCHOOL LLC  115 W ST CLAIR ST # A   \n",
       "A PLACE TO LEARN AND GROW INCORPORATED                  407 SIXTH ST NW   \n",
       "\n",
       "                                                           City    Zip  \n",
       "program_name                                                            \n",
       "A BRIGHT START 4 KIDZ LEARNING CTR                    CLEVELAND  44104  \n",
       "A BRIGHTER START CHILDCARE                           CINCINNATI  45239  \n",
       "A CHILD'S GARDEN                                     CINCINNATI  45238  \n",
       "A CHILD'S JOURNEY LEARNING CENTER                     WHITEHALL  43213  \n",
       "A CHILD'S PLACE LEARNING CENTER                    REYNOLDSBURG  43068  \n",
       "A GREAT START PRESCHOOL INC                              DAYTON  45459  \n",
       "A JOYFUL JOURNEY ACADEMY                               COLUMBUS  43227  \n",
       "A JUBILEE ACADEMY                                     CLEVELAND  44110  \n",
       "A KIDS ONLY EARLY LEARNING CENTER INC. 4              ASHTABULA  44004  \n",
       "A KIDS ONLY EARLY LEARNING CT INC                     ASHTABULA  44004  \n",
       "A KID'S PLACE CHILDCARE                           NORTH OLMSTED  44070  \n",
       "A LITTLE PIECE OF HEAVEN LEARNING CENTER LLC           COLUMBUS  43223  \n",
       "A LOVE FOR CHILDREN, LLC                               COLUMBUS  43229  \n",
       "A MILLION DREAMS LEARNING CENTER                        MILFORD  45150  \n",
       "A MOTHER'S LUV EARLY EDUCATION CENTER                CINCINNATI  45229  \n",
       "A MOTHERS TOUCH LAST FOREVER LLC                         TOLEDO  43606  \n",
       "A PLACE FOR EVERYONE LLC                                 HUDSON  44236  \n",
       "A PLACE TO GROW ACADEMY                                  DUBLIN  43017  \n",
       "A PLACE TO GROW DAYCARE CENTER AND PRESCHOOL LLC          EATON  45320  \n",
       "A PLACE TO LEARN AND GROW INCORPORATED                   CANTON  44702  "
      ],
      "text/html": [
       "<div>\n",
       "<style scoped>\n",
       "    .dataframe tbody tr th:only-of-type {\n",
       "        vertical-align: middle;\n",
       "    }\n",
       "\n",
       "    .dataframe tbody tr th {\n",
       "        vertical-align: top;\n",
       "    }\n",
       "\n",
       "    .dataframe thead th {\n",
       "        text-align: right;\n",
       "    }\n",
       "</style>\n",
       "<table border=\"1\" class=\"dataframe\">\n",
       "  <thead>\n",
       "    <tr style=\"text-align: right;\">\n",
       "      <th></th>\n",
       "      <th>pdf</th>\n",
       "      <th>Address</th>\n",
       "      <th>City</th>\n",
       "      <th>Zip</th>\n",
       "    </tr>\n",
       "    <tr>\n",
       "      <th>program_name</th>\n",
       "      <th></th>\n",
       "      <th></th>\n",
       "      <th></th>\n",
       "      <th></th>\n",
       "    </tr>\n",
       "  </thead>\n",
       "  <tbody>\n",
       "    <tr>\n",
       "      <th>A BRIGHT START 4 KIDZ LEARNING CTR</th>\n",
       "      <td>https://childcaresearch.ohio.gov//pdf/00224002...</td>\n",
       "      <td>8211 PLATT</td>\n",
       "      <td>CLEVELAND</td>\n",
       "      <td>44104</td>\n",
       "    </tr>\n",
       "    <tr>\n",
       "      <th>A BRIGHTER START CHILDCARE</th>\n",
       "      <td>https://childcaresearch.ohio.gov//pdf/00000020...</td>\n",
       "      <td>2765 BLUE ROCK RD.</td>\n",
       "      <td>CINCINNATI</td>\n",
       "      <td>45239</td>\n",
       "    </tr>\n",
       "    <tr>\n",
       "      <th>A CHILD'S GARDEN</th>\n",
       "      <td>https://childcaresearch.ohio.gov//pdf/00000020...</td>\n",
       "      <td>5427 JULMAR DRIVE</td>\n",
       "      <td>CINCINNATI</td>\n",
       "      <td>45238</td>\n",
       "    </tr>\n",
       "    <tr>\n",
       "      <th>A CHILD'S JOURNEY LEARNING CENTER</th>\n",
       "      <td>https://childcaresearch.ohio.gov//pdf/00217001...</td>\n",
       "      <td>846 S. YEARLING RD</td>\n",
       "      <td>WHITEHALL</td>\n",
       "      <td>43213</td>\n",
       "    </tr>\n",
       "    <tr>\n",
       "      <th>A CHILD'S PLACE LEARNING CENTER</th>\n",
       "      <td>https://childcaresearch.ohio.gov//pdf/00000040...</td>\n",
       "      <td>2010 OFFICEVIEW PLACE</td>\n",
       "      <td>REYNOLDSBURG</td>\n",
       "      <td>43068</td>\n",
       "    </tr>\n",
       "    <tr>\n",
       "      <th>A GREAT START PRESCHOOL INC</th>\n",
       "      <td>https://childcaresearch.ohio.gov//pdf/00000020...</td>\n",
       "      <td>7001 FAR HILLS AVE</td>\n",
       "      <td>DAYTON</td>\n",
       "      <td>45459</td>\n",
       "    </tr>\n",
       "    <tr>\n",
       "      <th>A JOYFUL JOURNEY ACADEMY</th>\n",
       "      <td>https://childcaresearch.ohio.gov//pdf/00222002...</td>\n",
       "      <td>1536 BARNETT ROAD</td>\n",
       "      <td>COLUMBUS</td>\n",
       "      <td>43227</td>\n",
       "    </tr>\n",
       "    <tr>\n",
       "      <th>A JUBILEE ACADEMY</th>\n",
       "      <td>https://childcaresearch.ohio.gov//pdf/00000030...</td>\n",
       "      <td>15751 LAKESHORE BLVD</td>\n",
       "      <td>CLEVELAND</td>\n",
       "      <td>44110</td>\n",
       "    </tr>\n",
       "    <tr>\n",
       "      <th>A KIDS ONLY EARLY LEARNING CENTER INC. 4</th>\n",
       "      <td>https://childcaresearch.ohio.gov//pdf/00219001...</td>\n",
       "      <td>2505 SOUTH RIDGE EAST</td>\n",
       "      <td>ASHTABULA</td>\n",
       "      <td>44004</td>\n",
       "    </tr>\n",
       "    <tr>\n",
       "      <th>A KIDS ONLY EARLY LEARNING CT INC</th>\n",
       "      <td>https://childcaresearch.ohio.gov//pdf/00000030...</td>\n",
       "      <td>2621 STATE ROAD</td>\n",
       "      <td>ASHTABULA</td>\n",
       "      <td>44004</td>\n",
       "    </tr>\n",
       "    <tr>\n",
       "      <th>A KID'S PLACE CHILDCARE</th>\n",
       "      <td>https://childcaresearch.ohio.gov//pdf/00000030...</td>\n",
       "      <td>30121 LORAIN RD</td>\n",
       "      <td>NORTH OLMSTED</td>\n",
       "      <td>44070</td>\n",
       "    </tr>\n",
       "    <tr>\n",
       "      <th>A LITTLE PIECE OF HEAVEN LEARNING CENTER LLC</th>\n",
       "      <td>https://childcaresearch.ohio.gov//pdf/00000040...</td>\n",
       "      <td>771 HARRISBURG PIKE</td>\n",
       "      <td>COLUMBUS</td>\n",
       "      <td>43223</td>\n",
       "    </tr>\n",
       "    <tr>\n",
       "      <th>A LOVE FOR CHILDREN, LLC</th>\n",
       "      <td>https://childcaresearch.ohio.gov//pdf/00000040...</td>\n",
       "      <td>4656 HEATON ROAD</td>\n",
       "      <td>COLUMBUS</td>\n",
       "      <td>43229</td>\n",
       "    </tr>\n",
       "    <tr>\n",
       "      <th>A MILLION DREAMS LEARNING CENTER</th>\n",
       "      <td>https://childcaresearch.ohio.gov//pdf/00220002...</td>\n",
       "      <td>541 MAIN STREET</td>\n",
       "      <td>MILFORD</td>\n",
       "      <td>45150</td>\n",
       "    </tr>\n",
       "    <tr>\n",
       "      <th>A MOTHER'S LUV EARLY EDUCATION CENTER</th>\n",
       "      <td>https://childcaresearch.ohio.gov//pdf/00223002...</td>\n",
       "      <td>3142 READING RD</td>\n",
       "      <td>CINCINNATI</td>\n",
       "      <td>45229</td>\n",
       "    </tr>\n",
       "    <tr>\n",
       "      <th>A MOTHERS TOUCH LAST FOREVER LLC</th>\n",
       "      <td>https://childcaresearch.ohio.gov//pdf/00219002...</td>\n",
       "      <td>3006/3010 DOUGLAS RD.</td>\n",
       "      <td>TOLEDO</td>\n",
       "      <td>43606</td>\n",
       "    </tr>\n",
       "    <tr>\n",
       "      <th>A PLACE FOR EVERYONE LLC</th>\n",
       "      <td>https://childcaresearch.ohio.gov//pdf/00000010...</td>\n",
       "      <td>5192 DARROW RD</td>\n",
       "      <td>HUDSON</td>\n",
       "      <td>44236</td>\n",
       "    </tr>\n",
       "    <tr>\n",
       "      <th>A PLACE TO GROW ACADEMY</th>\n",
       "      <td>https://childcaresearch.ohio.gov//pdf/00221002...</td>\n",
       "      <td>6760 DISCOVERY BLVD</td>\n",
       "      <td>DUBLIN</td>\n",
       "      <td>43017</td>\n",
       "    </tr>\n",
       "    <tr>\n",
       "      <th>A PLACE TO GROW DAYCARE CENTER AND PRESCHOOL LLC</th>\n",
       "      <td>https://childcaresearch.ohio.gov//pdf/00218001...</td>\n",
       "      <td>115 W ST CLAIR ST # A</td>\n",
       "      <td>EATON</td>\n",
       "      <td>45320</td>\n",
       "    </tr>\n",
       "    <tr>\n",
       "      <th>A PLACE TO LEARN AND GROW INCORPORATED</th>\n",
       "      <td>https://childcaresearch.ohio.gov//pdf/00000010...</td>\n",
       "      <td>407 SIXTH ST NW</td>\n",
       "      <td>CANTON</td>\n",
       "      <td>44702</td>\n",
       "    </tr>\n",
       "  </tbody>\n",
       "</table>\n",
       "</div>"
      ]
     },
     "execution_count": 10,
     "metadata": {},
     "output_type": "execute_result"
    }
   ],
   "execution_count": 10
  },
  {
   "metadata": {
    "ExecuteTime": {
     "end_time": "2024-12-23T04:12:46.524415Z",
     "start_time": "2024-12-23T04:12:34.164793Z"
    }
   },
   "cell_type": "code",
   "source": [
    "local_file, _ = urllib.request.urlretrieve(pdf_links.iloc[1]['pdf'])\n",
    "local_file"
   ],
   "id": "d40da76de505c140",
   "outputs": [
    {
     "data": {
      "text/plain": [
       "'C:\\\\Users\\\\WILLBL~1\\\\AppData\\\\Local\\\\Temp\\\\tmp8vg44cdf'"
      ]
     },
     "execution_count": 428,
     "metadata": {},
     "output_type": "execute_result"
    }
   ],
   "execution_count": 428
  },
  {
   "metadata": {},
   "cell_type": "markdown",
   "source": "# Extract Text from PDF",
   "id": "e9be54e0c7dd61e8"
  },
  {
   "metadata": {
    "ExecuteTime": {
     "end_time": "2024-12-23T04:12:46.527719Z",
     "start_time": "2024-12-23T04:12:46.525419Z"
    }
   },
   "cell_type": "code",
   "source": [
    "def display_opencv_image(image):\n",
    "    \"\"\"\n",
    "    Convert an OpenCV image (NumPy array) to a PIL image and display it.\n",
    "    \n",
    "    :param image: (numpy array) OpenCV image in BGR format.\n",
    "    \"\"\"\n",
    "    # Convert from BGR (OpenCV default) to RGB (PIL format)\n",
    "    image_rgb = cv2.cvtColor(image, cv2.COLOR_BGR2RGB)\n",
    "    \n",
    "    # Convert NumPy array to PIL Image\n",
    "    pil_image = Image.fromarray(image_rgb)\n",
    "    \n",
    "    # Display the image\n",
    "    pil_image.show()"
   ],
   "id": "7f4089efca49bab",
   "outputs": [],
   "execution_count": 429
  },
  {
   "metadata": {
    "ExecuteTime": {
     "end_time": "2024-12-23T04:12:46.532739Z",
     "start_time": "2024-12-23T04:12:46.527719Z"
    }
   },
   "cell_type": "code",
   "source": [
    "def preprocess_image(image, display=False):\n",
    "    \n",
    "    if display: \n",
    "        display_opencv_image(np.array(image))\n",
    "\n",
    "    image = cv2.cvtColor(np.array(image), cv2.COLOR_RGB2BGR)\n",
    "    # image = imutils.resize(image, width=700)\n",
    "    gray = cv2.cvtColor(image, cv2.COLOR_BGR2GRAY)\n",
    "    blur = cv2.GaussianBlur(gray, (5, 5), 0)\n",
    "    _, thresh = cv2.threshold(blur, 180, 255, cv2.THRESH_BINARY_INV)\n",
    "    # kernel = cv2.getStructuringElement(cv2.MORPH_RECT, (5, 5))\n",
    "    # morphed = cv2.morphologyEx(thresh, cv2.MORPH_CLOSE, kernel, iterations=1)\n",
    "    processed = thresh\n",
    "\n",
    "    if display: \n",
    "        display_opencv_image(processed)\n",
    "    \n",
    "    return processed"
   ],
   "id": "df0a2af5293058c9",
   "outputs": [],
   "execution_count": 430
  },
  {
   "metadata": {
    "ExecuteTime": {
     "end_time": "2024-12-23T04:12:46.538251Z",
     "start_time": "2024-12-23T04:12:46.533743Z"
    }
   },
   "cell_type": "code",
   "source": [
    "def draw_hierarchical_rectangles(image, output_path=None):\n",
    "    \"\"\"\n",
    "    Detect and draw hierarchical rectangles on a preprocessed binary image.\n",
    "    \n",
    "    :param image: (PIL.Image.Image) The preprocessed binary image (PIL format).\n",
    "    :param output_path: (str) Path to save the annotated image with rectangles.\n",
    "    \"\"\"\n",
    "\n",
    "    # find all rectangles (fields) in the image \n",
    "    contours, hierarchy = cv2.findContours(image, cv2.RETR_TREE, cv2.CHAIN_APPROX_SIMPLE)\n",
    "\n",
    "    if output_path:\n",
    "        annotated_image = cv2.cvtColor(image, cv2.COLOR_GRAY2BGR)\n",
    "    sub_rectangles = []\n",
    "\n",
    "    for i, cnt in enumerate(contours):\n",
    "        x, y, w, h = cv2.boundingRect(cnt)\n",
    "\n",
    "        # Parent-child relationship: Sub-rectangles have a parent in the hierarchy\n",
    "        if hierarchy[0][i][3] != -1:\n",
    "            # filter by size to only keep document-field rectangles\n",
    "            if w > 250 and h > 10:  \n",
    "                sub_rectangles.append((x, y, w, h))\n",
    "                if output_path:\n",
    "                    cv2.rectangle(annotated_image, (x, y), (x + w, y + h), (0, 255, 0), 2)\n",
    "\n",
    "    # convert to PIL image for display\n",
    "    if output_path:\n",
    "        annotated_image_pil = Image.fromarray(cv2.cvtColor(annotated_image, cv2.COLOR_BGR2RGB))\n",
    "        annotated_image_pil.save(output_path)\n",
    "        annotated_image_pil.show()\n",
    "\n",
    "    print(f\"Detected {len(sub_rectangles)} hierarchical sub-rectangles.\")\n",
    "    sub_rectangles = sorted(sub_rectangles, key=lambda x: x[0])\n",
    "    sub_rectangles = sorted(sub_rectangles, key=lambda x: x[1])\n",
    "    return sub_rectangles"
   ],
   "id": "67913c058cb69f0e",
   "outputs": [],
   "execution_count": 431
  },
  {
   "metadata": {
    "ExecuteTime": {
     "end_time": "2024-12-23T04:12:46.543242Z",
     "start_time": "2024-12-23T04:12:46.538251Z"
    }
   },
   "cell_type": "code",
   "source": [
    "def extract_text_from_subrectangles(ocr, image, sub_rectangles):\n",
    "    \"\"\"\n",
    "    Extract text from sub-rectangles of an image using EasyOCR.\n",
    "    \n",
    "    :param ocr: (easyocr.Reader) EasyOCR reader object.\n",
    "    :param image: The preprocessed binary image (OpenCV format).\n",
    "    :param sub_rectangles: (list) List of sub-rectangles to extract text from.\n",
    "    :return: (list) List of extracted text and their confidence scores.\n",
    "    \"\"\"\n",
    "    \n",
    "    if not isinstance(image, np.ndarray):\n",
    "        image = np.array(image)\n",
    "    \n",
    "    extracted_text = {}\n",
    "    \n",
    "    total = 0\n",
    "    fields = 0\n",
    "    total_confidence = 0\n",
    "\n",
    "    for i, (x, y, w, h) in enumerate(sub_rectangles):\n",
    "        sub_image = image[y:y+h, x:x+w]\n",
    "        \n",
    "        extracted_text[i] = ((x, y, w, h), [])\n",
    "\n",
    "        if len(sub_image.shape) == 2:\n",
    "            sub_image = cv2.cvtColor(sub_image, cv2.COLOR_GRAY2RGB)\n",
    "            \n",
    "        # skip empty sub-rectangles\n",
    "        \n",
    "        black_p = np.sum(sub_image==0) / sub_image.size\n",
    "            \n",
    "        if black_p < 0.02:\n",
    "            fields += 1\n",
    "            continue \n",
    "\n",
    "        results = ocr.readtext(sub_image)\n",
    "        \n",
    "        if not results:\n",
    "            # try to preprocess the image to improve OCR performance (a bit arbitrary...)\n",
    "            sub_image = cv2.GaussianBlur(sub_image, (5, 5), 0)\n",
    "            sub_image = cv2.morphologyEx(sub_image, cv2.MORPH_CLOSE, (5, 5), iterations=2)\n",
    "            sub_image = cv2.resize(sub_image, None, fx=2, fy=2, interpolation=cv2.INTER_CUBIC)\n",
    "            results = ocr.readtext(sub_image)\n",
    "\n",
    "        if results:\n",
    "            fields += 1 \n",
    "        else:\n",
    "            # display_opencv_image(sub_image)\n",
    "            print(f\"No text detected in sub-rectangle {i}.\") \n",
    "            \n",
    "        total += max(1, len(results))\n",
    "\n",
    "        for result in results:\n",
    "            bbox, text, confidence = result\n",
    "            extracted_text[i][1].append((text, round(confidence, 2)))\n",
    "            total_confidence += confidence \n",
    "            \n",
    "    print(f\"Extracted {fields} / {len(sub_rectangles)} text fields with an average confidence of {total_confidence / total:.2f}.\")\n",
    "\n",
    "    return extracted_text"
   ],
   "id": "97586fbf39739938",
   "outputs": [],
   "execution_count": 432
  },
  {
   "metadata": {
    "ExecuteTime": {
     "end_time": "2024-12-23T04:12:55.655420Z",
     "start_time": "2024-12-23T04:12:46.543242Z"
    }
   },
   "cell_type": "code",
   "source": "images = convert_from_path(local_file, dpi=500)",
   "id": "600c298555b7d535",
   "outputs": [],
   "execution_count": 433
  },
  {
   "metadata": {
    "ExecuteTime": {
     "end_time": "2024-12-23T04:12:55.666210Z",
     "start_time": "2024-12-23T04:12:55.656425Z"
    }
   },
   "cell_type": "code",
   "source": "image = images[0]",
   "id": "2ef53c3d0538b8cd",
   "outputs": [],
   "execution_count": 434
  },
  {
   "metadata": {
    "ExecuteTime": {
     "end_time": "2024-12-23T04:12:55.849320Z",
     "start_time": "2024-12-23T04:12:55.667215Z"
    }
   },
   "cell_type": "code",
   "source": "preprocessed_image = preprocess_image(image, display=False)",
   "id": "18a153826e3d230f",
   "outputs": [],
   "execution_count": 435
  },
  {
   "metadata": {
    "ExecuteTime": {
     "end_time": "2024-12-23T04:13:24.514830Z",
     "start_time": "2024-12-23T04:13:23.645251Z"
    }
   },
   "cell_type": "code",
   "source": "sub_rectangles = draw_hierarchical_rectangles(preprocessed_image, output_path=\"hierarchical_rectangles.png\")",
   "id": "6ddee6c7473ca64e",
   "outputs": [
    {
     "name": "stdout",
     "output_type": "stream",
     "text": [
      "Detected 72 hierarchical sub-rectangles.\n"
     ]
    }
   ],
   "execution_count": 439
  },
  {
   "metadata": {
    "ExecuteTime": {
     "end_time": "2024-12-23T04:12:55.914424Z",
     "start_time": "2024-12-23T04:12:55.906505Z"
    }
   },
   "cell_type": "code",
   "source": [
    "final_image = cv2.bitwise_not(preprocessed_image)\n",
    "# display_opencv_image(final_image)"
   ],
   "id": "bd44b72d750e3baf",
   "outputs": [],
   "execution_count": 437
  },
  {
   "metadata": {
    "ExecuteTime": {
     "end_time": "2024-12-23T04:12:59.784689Z",
     "start_time": "2024-12-23T04:12:55.915428Z"
    }
   },
   "cell_type": "code",
   "source": [
    "import easyocr\n",
    "ocr = easyocr.Reader(['en'], gpu=True)\n",
    "extracted_text = extract_text_from_subrectangles(ocr, final_image, sub_rectangles)\n",
    "extracted_text"
   ],
   "id": "40612a8ed795f016",
   "outputs": [
    {
     "name": "stdout",
     "output_type": "stream",
     "text": [
      "No text detected in sub-rectangle 6.\n",
      "Extracted 71 / 72 text fields with an average confidence of 0.92.\n"
     ]
    },
    {
     "data": {
      "text/plain": [
       "{0: ((254, 1261, 3744, 99), [('Program Details', np.float64(0.95))]),\n",
       " 1: ((253, 1365, 1429, 280),\n",
       "  [('Program Name', np.float64(0.82)),\n",
       "   ('A BRIGHTER START CHILDCARE', np.float64(0.99))]),\n",
       " 2: ((1686, 1365, 1340, 280),\n",
       "  [('Program Number', np.float64(0.94)), ('000000200979', np.float64(1.0))]),\n",
       " 3: ((3030, 1365, 969, 280),\n",
       "  [('Program Type', np.float64(1.0)), ('Child Care Center', np.float64(0.9))]),\n",
       " 4: ((253, 1648, 2773, 374),\n",
       "  [('Address', np.float64(1.0)),\n",
       "   ('2765 BLUE ROCK RD. CINCINNATI', np.float64(0.95)),\n",
       "   ('OH', np.float64(1.0)),\n",
       "   ('45239', np.float64(1.0))]),\n",
       " 5: ((3030, 1648, 969, 374),\n",
       "  [('County', np.float64(1.0)), ('HAMILTON', np.float64(1.0))]),\n",
       " 6: ((254, 2026, 3744, 91), []),\n",
       " 7: ((253, 2122, 1429, 186), [('Building Approval Date', np.float64(0.81))]),\n",
       " 8: ((1686, 2122, 642, 186), [('Use Group/Code', np.float64(0.95))]),\n",
       " 9: ((2332, 2122, 829, 186), [('Occupancy Limit', np.float64(1.0))]),\n",
       " 10: ((3165, 2122, 834, 186), [('Maximum Under 2 Y', np.float64(0.74))]),\n",
       " 11: ((253, 2312, 1429, 186),\n",
       "  [('Fire Inspection Approval Date', np.float64(0.93)),\n",
       "   ('09/20/2024', np.float64(1.0))]),\n",
       " 12: ((1686, 2312, 2313, 186),\n",
       "  [('Food Service Risk Level', np.float64(0.79)),\n",
       "   ('Level II', np.float64(0.67))]),\n",
       " 13: ((254, 2607, 3744, 100), [('Inspection Information', np.float64(0.96))]),\n",
       " 14: ((253, 2712, 1214, 178),\n",
       "  [('Inspection Type', np.float64(1.0)), ('Annual', np.float64(1.0))]),\n",
       " 15: ((1471, 2712, 1153, 178),\n",
       "  [('Inspection Scope', np.float64(0.75)), ('Full', np.float64(0.73))]),\n",
       " 16: ((2627, 2712, 1372, 178),\n",
       "  [('Inspection Notice', np.float64(1.0)), ('Unannounced', np.float64(0.87))]),\n",
       " 17: ((253, 2900, 1214, 179),\n",
       "  [('Inspection Date', np.float64(1.0)), ('10/02/2024', np.float64(0.99))]),\n",
       " 18: ((1471, 2900, 1153, 178),\n",
       "  [('Begin Time', np.float64(0.88)), ('9:00 AM', np.float64(0.99))]),\n",
       " 19: ((2627, 2900, 1372, 179),\n",
       "  [('End Time', np.float64(0.93)), ('11.30 AM', np.float64(0.71))]),\n",
       " 20: ((253, 3082, 3746, 225),\n",
       "  [('Reviewer:', np.float64(1.0)), ('Kristin Blassingame', np.float64(1.0))]),\n",
       " 21: ((254, 3317, 3744, 101), [('Summary of Findings', np.float64(0.99))]),\n",
       " 22: ((253, 3422, 588, 178),\n",
       "  [('No. Rules Verified', np.float64(0.63)), ('58', np.float64(1.0))]),\n",
       " 23: ((845, 3422, 1027, 178),\n",
       "  [('No. Rules with Non-compliances', np.float64(0.63)),\n",
       "   ('10', np.float64(1.0))]),\n",
       " 24: ((1875, 3422, 654, 178), [('No. Serious Risk', np.float64(0.96))]),\n",
       " 25: ((2532, 3422, 715, 178),\n",
       "  [('No. Moderate Risk', np.float64(0.98)), ('2', np.float64(1.0))]),\n",
       " 26: ((3251, 3422, 748, 178),\n",
       "  [('No. Low Risk', np.float64(0.98)), ('9', np.float64(1.0))]),\n",
       " 27: ((254, 3746, 3744, 100),\n",
       "  [('License Capacity and Enrollment at the Time of Inspection',\n",
       "    np.float64(0.93))]),\n",
       " 28: ((253, 3850, 932, 190),\n",
       "  [('Group', np.float64(1.0)), ('Age', np.float64(1.0))]),\n",
       " 29: ((1189, 3850, 591, 94), [('License Capacity', np.float64(1.0))]),\n",
       " 30: ((1784, 3850, 2215, 94), [('Enrollment', np.float64(1.0))]),\n",
       " 31: ((1189, 3947, 591, 93), [('Totals', np.float64(1.0))]),\n",
       " 32: ((1783, 3947, 372, 93), [('Full Time', np.float64(0.95))]),\n",
       " 33: ((2159, 3947, 660, 93), [('Part Time', np.float64(0.73))]),\n",
       " 34: ((2822, 3947, 1177, 93), [('Total', np.float64(0.75))]),\n",
       " 35: ((253, 4044, 932, 93),\n",
       "  [('Infant', np.float64(1.0)), ('Birth to < 18 m)', np.float64(0.73))]),\n",
       " 36: ((1783, 4044, 372, 93), [('11', np.float64(1.0))]),\n",
       " 37: ((2158, 4044, 661, 93), [('0', np.float64(1.0))]),\n",
       " 38: ((2822, 4044, 1177, 93), [('11', np.float64(1.0))]),\n",
       " 39: ((1190, 4046, 589, 186), []),\n",
       " 40: ((253, 4141, 932, 93), [('Young Toddler', np.float64(0.98))]),\n",
       " 41: ((1783, 4141, 372, 93), [('0', np.float64(0.85))]),\n",
       " 42: ((2158, 4141, 661, 93), [('0', np.float64(1.0))]),\n",
       " 43: ((2822, 4141, 1177, 93), [('0', np.float64(1.0))]),\n",
       " 44: ((253, 4237, 932, 94), [('Total Under 2 %z Years', np.float64(0.62))]),\n",
       " 45: ((1189, 4237, 591, 94), [('21', np.float64(1.0))]),\n",
       " 46: ((1783, 4237, 372, 94), [('11', np.float64(1.0))]),\n",
       " 47: ((2159, 4237, 660, 94), [('0', np.float64(1.0))]),\n",
       " 48: ((2822, 4237, 1177, 94), [('11', np.float64(1.0))]),\n",
       " 49: ((253, 4334, 932, 93), [('Older Toddler', np.float64(0.98))]),\n",
       " 50: ((1783, 4334, 372, 93), [('0', np.float64(1.0))]),\n",
       " 51: ((2159, 4334, 660, 93), [('0', np.float64(1.0))]),\n",
       " 52: ((2822, 4334, 1177, 93), [('0', np.float64(0.77))]),\n",
       " 53: ((1190, 4336, 589, 284), []),\n",
       " 54: ((253, 4431, 932, 94), [('Preschool', np.float64(0.9))]),\n",
       " 55: ((1783, 4431, 372, 94), [('21', np.float64(1.0))]),\n",
       " 56: ((2159, 4431, 660, 94), [('0', np.float64(0.65))]),\n",
       " 57: ((2822, 4431, 1177, 94), [('21', np.float64(1.0))]),\n",
       " 58: ((253, 4529, 932, 92),\n",
       "  [('School', np.float64(1.0)), ('Age', np.float64(1.0))]),\n",
       " 59: ((1783, 4529, 372, 92), [('0', np.float64(1.0))]),\n",
       " 60: ((2158, 4529, 661, 92), [('0', np.float64(1.0))]),\n",
       " 61: ((2822, 4529, 1177, 92), [('0', np.float64(1.0))]),\n",
       " 62: ((253, 4625, 932, 93), [('Total Capacity/Enrollment', np.float64(0.74))]),\n",
       " 63: ((1189, 4625, 591, 93), [('44', np.float64(1.0))]),\n",
       " 64: ((1783, 4625, 372, 93), [('21', np.float64(1.0))]),\n",
       " 65: ((2158, 4625, 661, 93), [('0', np.float64(1.0))]),\n",
       " 66: ((2822, 4625, 1177, 93), [('32', np.float64(1.0))]),\n",
       " 67: ((254, 4873, 3742, 100),\n",
       "  [('Staff-Child Ratios at the Time of Inspection', np.float64(0.86))]),\n",
       " 68: ((253, 4977, 1181, 94), [('Group', np.float64(1.0))]),\n",
       " 69: ((1437, 4977, 1183, 94), [('Age Group/Range', np.float64(0.79))]),\n",
       " 70: ((2623, 4977, 732, 94), [('Ratio Observed', np.float64(0.65))]),\n",
       " 71: ((3359, 4977, 638, 94), [('Comment', np.float64(1.0))])}"
      ]
     },
     "execution_count": 438,
     "metadata": {},
     "output_type": "execute_result"
    }
   ],
   "execution_count": 438
  },
  {
   "metadata": {
    "ExecuteTime": {
     "end_time": "2024-12-23T04:12:59.787088Z",
     "start_time": "2024-12-23T04:12:59.785693Z"
    }
   },
   "cell_type": "code",
   "source": "",
   "id": "abe46755d7c2a52",
   "outputs": [],
   "execution_count": 438
  }
 ],
 "metadata": {
  "kernelspec": {
   "display_name": "Python 3",
   "language": "python",
   "name": "python3"
  },
  "language_info": {
   "codemirror_mode": {
    "name": "ipython",
    "version": 2
   },
   "file_extension": ".py",
   "mimetype": "text/x-python",
   "name": "python",
   "nbconvert_exporter": "python",
   "pygments_lexer": "ipython2",
   "version": "2.7.6"
  }
 },
 "nbformat": 4,
 "nbformat_minor": 5
}
