{
 "cells": [
  {
   "cell_type": "code",
   "id": "initial_id",
   "metadata": {
    "collapsed": true,
    "ExecuteTime": {
     "end_time": "2025-01-04T04:52:25.280814Z",
     "start_time": "2025-01-04T04:52:22.400707Z"
    }
   },
   "source": [
    "import cv2\n",
    "import easyocr\n",
    "import numpy as np\n",
    "import pandas as pd\n",
    "import torch\n",
    "import os\n",
    "import urllib.request\n",
    "\n",
    "from fuzzywuzzy import process\n",
    "from pdf2image import convert_from_path\n",
    "from PIL import Image\n",
    "\n",
    "from webscraping import extract_all_pdfs\n",
    "from text_extraction import process_image, display_opencv_image"
   ],
   "outputs": [],
   "execution_count": 1
  },
  {
   "cell_type": "code",
   "id": "5e63cd8ce4cd8a11",
   "metadata": {
    "ExecuteTime": {
     "end_time": "2025-01-04T04:52:25.302516Z",
     "start_time": "2025-01-04T04:52:25.281844Z"
    }
   },
   "source": [
    "print(f\"CUDA Available: {torch.cuda.is_available()}\")\n",
    "\n",
    "# Check if CuDNN is enabled in PyTorch\n",
    "print(f\"CuDNN Enabled: {torch.backends.cudnn.enabled}\")\n",
    "\n",
    "# Check CuDNN version in PyTorch\n",
    "print(f\"CuDNN Version: {torch.backends.cudnn.version()}\")"
   ],
   "outputs": [
    {
     "name": "stdout",
     "output_type": "stream",
     "text": [
      "CUDA Available: True\n",
      "CuDNN Enabled: True\n",
      "CuDNN Version: 90100\n"
     ]
    }
   ],
   "execution_count": 2
  },
  {
   "cell_type": "markdown",
   "id": "fa45a4c2e2fbe6f7",
   "metadata": {},
   "source": [
    "# Link and File Paths"
   ]
  },
  {
   "cell_type": "code",
   "id": "9660cd02c29e86ea",
   "metadata": {
    "ExecuteTime": {
     "end_time": "2025-01-04T04:52:25.305487Z",
     "start_time": "2025-01-04T04:52:25.302516Z"
    }
   },
   "source": [
    "ODCY_LINK = \"https://childcaresearch.ohio.gov/search?q=fVLNbhMxEN40v0uapgKhHhAiBy6VQkUR1xwWN1VDIVl1V0gFcXDWk42FY6%2b83pS98Q6ICxdeg1fgyBvwJjB2uhCJqrPS2DOf59tvPPZqnuf9RrOrtd0ddCRhyRXMiVqtlBwO3oDOuZKj46On9hsOSCFMoWEkoTCaiuEgLOaCJ%2bdQxuoDyJEshGhaxkfbREcn8ewoAqqTJdHcgOb0MZ7ZC7VacwZ6WqzmoFtEFdKUDcJN2X7LM6IY7FZH4jKD1gU1XKbdkGrDqZjSFbQnckGlyXuXWJvGijGBknszYUuuIz%2fUkCdLpYQfuSVIoX9Cy3y2mGWgkVPJ%2fTNV6O1E8zVQke%2b%2fgIXSsCkjVEN3vAaJGuy%2bE13x1QqD%2b1EGiRUEwHKy5IJZeC%2fWVOaZ0sYR9oMFNv6PqTdbg5Y8XRob3TnlIFiseZYfjKkWpaPBs2z8MUMaJPDPgLLIYO%2f3Qs3X1MA5l9hmihmQB5tBiPK0wCT7q%2bLuK07nXOCVTmReoKIEmtNgfEma0zEJA9wTEqI%2fJaROZkEjINEEB5FKThsThLxaDce5eSPthnejNTudmrOH%2fw3dXesFlSm8e2%2ffV%2b1Gs8jOk%2bNW3bL59cpVL9MFm51V4DdvloHWt3h7q7TtztrIIo0Htwi0IvyWdZbA71jn2%2b5s7rZCp9cNJub4IseS2bUTgYDEAHM8rkUv%2b%2frymV1%2fPf%2fCnC77p9Z25vvn4JtDOhVynfl0%2bPPwh0P8CqmsYu3%2bAQ%3d%3d\"\n",
    "\n",
    "REL_PATH = \"https://childcaresearch.ohio.gov/\""
   ],
   "outputs": [],
   "execution_count": 3
  },
  {
   "cell_type": "markdown",
   "id": "5812669b91e451a3",
   "metadata": {},
   "source": [
    "# Helper Functions"
   ]
  },
  {
   "metadata": {
    "ExecuteTime": {
     "end_time": "2025-01-04T04:52:25.309589Z",
     "start_time": "2025-01-04T04:52:25.305487Z"
    }
   },
   "cell_type": "code",
   "source": [
    "def group_into_rows(extracted_text, threshold=5):\n",
    "    \"\"\"\n",
    "    Group extracted_text entries into rows based on their y-coordinates.\n",
    "    \n",
    "    :param extracted_text: A list of tuples of the form:\n",
    "                          [ ( (x, y, w, h), [ (text, conf), ... ] ), ... ] \n",
    "                          assumed to be sorted top-to-bottom, left-to-right.\n",
    "    :param threshold:    The distance in pixels to decide when to start a new row.\n",
    "    :return:               A list (rows) of lists, each inner list is one row, \n",
    "                           containing the sub-rectangle data.\n",
    "    \"\"\"\n",
    "    rows = []\n",
    "    current_row = []\n",
    "    if not extracted_text:\n",
    "        return rows\n",
    "\n",
    "    # start the first row’s baseline from the very first rectangle's y\n",
    "    _, first_data = extracted_text[0]\n",
    "    current_row_y = extracted_text[0][0][1]\n",
    "    current_row_h = extracted_text[0][0][3]\n",
    "\n",
    "    for ((x, y, w, h), text_data) in extracted_text:\n",
    "\n",
    "        if abs(y - current_row_y) > threshold or abs(h - current_row_h) > threshold:\n",
    "            # push the old row into rows\n",
    "            rows.append(current_row)\n",
    "            # start a new row\n",
    "            current_row = []\n",
    "            current_row_y = y\n",
    "            current_row_h = h\n",
    "\n",
    "\n",
    "        # add current bounding box/data to the current row\n",
    "        current_row.append(((x, y, w, h), text_data))\n",
    "\n",
    "    if current_row:\n",
    "        rows.append(current_row)\n",
    "\n",
    "    # sort each row by x-coordinate and remove empty rows\n",
    "    rows = [sorted(r, key=lambda x: x[0][0]) for r in rows if not (len(r) == 1 and len(r[0][1]) == 0)]\n",
    "\n",
    "    return rows"
   ],
   "id": "ce572992e0f747e6",
   "outputs": [],
   "execution_count": 4
  },
  {
   "metadata": {
    "ExecuteTime": {
     "end_time": "2025-01-04T04:52:25.313968Z",
     "start_time": "2025-01-04T04:52:25.310593Z"
    }
   },
   "cell_type": "code",
   "source": [
    "def process_ocr_to_dataframe(ocr_results, fields):\n",
    "    \"\"\"\n",
    "    Process OCR results and flatten the extracted information into a CSV-ready format.\n",
    "\n",
    "    Parameters:\n",
    "    ocr_results (dict): Dictionary of OCR results containing bounding boxes and text.\n",
    "\n",
    "    Returns:\n",
    "    pd.DataFrame: A dataframe containing flattened, structured data for CSV storage.\n",
    "    \"\"\"\n",
    "    extracted_data = {field: None for field in fields}\n",
    "\n",
    "    for field in ocr_results:\n",
    "        if len(field[1]) > 1:\n",
    "\n",
    "            label, content = field[1][0][0], field[1][-1][0]\n",
    "            confidence = field[1][0][1]\n",
    "\n",
    "            best_match, score = process.extractOne(label, extracted_data.keys())\n",
    "            if score > 95:\n",
    "                if extracted_data[best_match] is not None and extracted_data[best_match] != content:\n",
    "                    print(f\"Field '{best_match}' field changed from '{extracted_data[best_match]}' to '{content}'\")\n",
    "\n",
    "                extracted_data[best_match] = content, confidence\n",
    "\n",
    "    general_df = pd.DataFrame([extracted_data])\n",
    "\n",
    "    general_df[\"Program Name\"] = general_df.apply(lambda x: x[\"Program Name\"][0], axis=1)\n",
    "    general_df.set_index(\"Program Name\", inplace=True)\n",
    "\n",
    "    # general_df = general_df[sorted(general_df.columns)]\n",
    "\n",
    "    return general_df"
   ],
   "id": "cbc3b89ccb667963",
   "outputs": [],
   "execution_count": 5
  },
  {
   "metadata": {
    "ExecuteTime": {
     "end_time": "2025-01-04T04:54:07.153048Z",
     "start_time": "2025-01-04T04:54:07.148926Z"
    }
   },
   "cell_type": "code",
   "source": [
    "def get_row(rows, field, start_idx=0):\n",
    "    idx = start_idx\n",
    "    i = start_idx\n",
    "\n",
    "    while i < len(rows) and idx == start_idx:\n",
    "        row = rows[i][0][1][0][0]\n",
    "        if field in row or row in field:\n",
    "            idx = i\n",
    "\n",
    "        # else: \n",
    "        # print(f\"Field: {field} and Row: {row}\")\n",
    "\n",
    "        i += 1\n",
    "\n",
    "    if idx == start_idx:\n",
    "        print(f\"Field '{field}' not found in rows.\")\n",
    "\n",
    "    return idx\n",
    "\n",
    "def extract_license_capacity_table(extracted_text):\n",
    "    rows = group_into_rows(extracted_text)\n",
    "    # rows = extracted_text\n",
    "\n",
    "    table_rows = [\n",
    "        \"Infant\",\n",
    "        \"Young Toddler\",\n",
    "        \"Total Under 2\",\n",
    "        \"Older Toddler\",\n",
    "        \"Preschool\",\n",
    "        \"School\",\n",
    "        \"Total Capacity/Enrollment\"]\n",
    "\n",
    "    columns = [\n",
    "        \"Full Time\",\n",
    "        \"Part Time\",\n",
    "        \"Total\"\n",
    "    ]\n",
    "\n",
    "    table = {\"License Capacity\": {}}\n",
    "\n",
    "    row_idx = 0\n",
    "\n",
    "    for i, t_row in enumerate(table_rows):\n",
    "\n",
    "        prev = row_idx\n",
    "        row_idx = get_row(rows, t_row, row_idx)\n",
    "\n",
    "        if row_idx == prev:\n",
    "            continue\n",
    "\n",
    "        current_row = rows[row_idx]\n",
    "\n",
    "        # save license capacity totals\n",
    "        if len(current_row) > len(columns) + 1:\n",
    "            table[\"License Capacity\"][t_row] = current_row[1][1]\n",
    "            current_row = current_row[2:]\n",
    "        else:\n",
    "            current_row = current_row[1:]\n",
    "\n",
    "        table[t_row] = {columns[i]: field[1][0] for i, field in enumerate(current_row)}\n",
    "\n",
    "    return table"
   ],
   "id": "c3be1431d2e3c5ed",
   "outputs": [],
   "execution_count": 18
  },
  {
   "cell_type": "markdown",
   "id": "a8015309a4a3ab61",
   "metadata": {},
   "source": [
    "# Extract PDF Links"
   ]
  },
  {
   "cell_type": "code",
   "id": "99469d8a35baaf6d",
   "metadata": {
    "ExecuteTime": {
     "end_time": "2025-01-04T04:52:25.325631Z",
     "start_time": "2025-01-04T04:52:25.322759Z"
    }
   },
   "source": [
    "test_link = \"https://childcaresearch.ohio.gov/search?q=fVLNbhMxEN40v0uapgKhHhAiBy6VQkUR1xwWN1VDIVl1V0gFcXDWk42FY6%2b83pS98Q6ICxdeg1fgyBvwJjB2uhCJqrPS2DOf59tvPPZqnuf9RrOrtd0ddCRhyRXMiVqtlBwO3oDOuZKj46On9hsOSCFMoWEkoTCaiuEgLOaCJ%2bdQxuoDyJEshGhaxkfbREcn8ewoAqqTJdHcgOb0MZ7ZC7VacwZ6WqzmoFtEFdKUDcJN2X7LM6IY7FZH4jKD1gU1XKbdkGrDqZjSFbQnckGlyXuXWJvGijGBknszYUuuIz%2fUkCdLpYQfuSVIoX9Cy3y2mGWgkVPJ%2fTNV6O1E8zVQke%2b%2fgIXSsCkjVEN3vAaJGuy%2bE13x1QqD%2b1EGiRUEwHKy5IJZeC%2fWVOaZ0sYR9oMFNv6PqTdbg5Y8XRob3TnlIFiseZYfjKkWpaPBs2z8MUMaJPDPgLLIYO%2f3Qs3X1MA5l9hmihmQB5tBiPK0wCT7q%2bLuK07nXOCVTmReoKIEmtNgfEma0zEJA9wTEqI%2fJaROZkEjINEEB5FKThsThLxaDce5eSPthnejNTudmrOH%2fw3dXesFlSm8e2%2ffV%2b1Gs8jOk%2bNW3bL59cpVL9MFm51V4DdvloHWt3h7q7TtztrIIo0Htwi0IvyWdZbA71jn2%2b5s7rZCp9cNJub4IseS2bUTgYDEAHM8rkUv%2b%2frymV1%2fPf%2fCnC77p9Z25vvn4JtDOhVynfl0%2bPPwh0P8CqmsYu3%2bAQ%3d%3d&p=1\""
   ],
   "outputs": [],
   "execution_count": 7
  },
  {
   "cell_type": "code",
   "id": "70c2abdda7d806aa",
   "metadata": {
    "ExecuteTime": {
     "end_time": "2025-01-04T04:52:25.337886Z",
     "start_time": "2025-01-04T04:52:25.325631Z"
    }
   },
   "source": [
    "pdf_link_path = \"pdf_links.csv\"\n",
    "\n",
    "if os.path.exists(pdf_link_path):\n",
    "    pdf_links = pd.read_csv(pdf_link_path, index_col=0)\n",
    "else:\n",
    "    pdf_links = extract_all_pdfs(test_link, REL_PATH)\n",
    "    pdf_links.to_csv(pdf_link_path, index=True)\n",
    "pdf_links"
   ],
   "outputs": [
    {
     "data": {
      "text/plain": [
       "                                                                                                pdf  \\\n",
       "program_name                                                                                          \n",
       "A BRIGHT START 4 KIDZ LEARNING CTR                https://childcaresearch.ohio.gov//pdf/00224002...   \n",
       "A BRIGHTER START CHILDCARE                        https://childcaresearch.ohio.gov//pdf/00000020...   \n",
       "A CHILD'S GARDEN                                  https://childcaresearch.ohio.gov//pdf/00000020...   \n",
       "A CHILD'S JOURNEY LEARNING CENTER                 https://childcaresearch.ohio.gov//pdf/00217001...   \n",
       "A CHILD'S PLACE LEARNING CENTER                   https://childcaresearch.ohio.gov//pdf/00000040...   \n",
       "A GREAT START PRESCHOOL INC                       https://childcaresearch.ohio.gov//pdf/00000020...   \n",
       "A JOYFUL JOURNEY ACADEMY                          https://childcaresearch.ohio.gov//pdf/00222002...   \n",
       "A JUBILEE ACADEMY                                 https://childcaresearch.ohio.gov//pdf/00000030...   \n",
       "A KIDS ONLY EARLY LEARNING CENTER INC. 4          https://childcaresearch.ohio.gov//pdf/00219001...   \n",
       "A KIDS ONLY EARLY LEARNING CT INC                 https://childcaresearch.ohio.gov//pdf/00000030...   \n",
       "A KID'S PLACE CHILDCARE                           https://childcaresearch.ohio.gov//pdf/00000030...   \n",
       "A LITTLE PIECE OF HEAVEN LEARNING CENTER LLC      https://childcaresearch.ohio.gov//pdf/00000040...   \n",
       "A LOVE FOR CHILDREN, LLC                          https://childcaresearch.ohio.gov//pdf/00000040...   \n",
       "A MILLION DREAMS LEARNING CENTER                  https://childcaresearch.ohio.gov//pdf/00220002...   \n",
       "A MOTHER'S LUV EARLY EDUCATION CENTER             https://childcaresearch.ohio.gov//pdf/00223002...   \n",
       "A MOTHERS TOUCH LAST FOREVER LLC                  https://childcaresearch.ohio.gov//pdf/00219002...   \n",
       "A PLACE FOR EVERYONE LLC                          https://childcaresearch.ohio.gov//pdf/00000010...   \n",
       "A PLACE TO GROW ACADEMY                           https://childcaresearch.ohio.gov//pdf/00221002...   \n",
       "A PLACE TO GROW DAYCARE CENTER AND PRESCHOOL LLC  https://childcaresearch.ohio.gov//pdf/00218001...   \n",
       "A PLACE TO LEARN AND GROW INCORPORATED            https://childcaresearch.ohio.gov//pdf/00000010...   \n",
       "\n",
       "                                                                Address  \\\n",
       "program_name                                                              \n",
       "A BRIGHT START 4 KIDZ LEARNING CTR                           8211 PLATT   \n",
       "A BRIGHTER START CHILDCARE                           2765 BLUE ROCK RD.   \n",
       "A CHILD'S GARDEN                                      5427 JULMAR DRIVE   \n",
       "A CHILD'S JOURNEY LEARNING CENTER                    846 S. YEARLING RD   \n",
       "A CHILD'S PLACE LEARNING CENTER                   2010 OFFICEVIEW PLACE   \n",
       "A GREAT START PRESCHOOL INC                          7001 FAR HILLS AVE   \n",
       "A JOYFUL JOURNEY ACADEMY                              1536 BARNETT ROAD   \n",
       "A JUBILEE ACADEMY                                  15751 LAKESHORE BLVD   \n",
       "A KIDS ONLY EARLY LEARNING CENTER INC. 4          2505 SOUTH RIDGE EAST   \n",
       "A KIDS ONLY EARLY LEARNING CT INC                       2621 STATE ROAD   \n",
       "A KID'S PLACE CHILDCARE                                 30121 LORAIN RD   \n",
       "A LITTLE PIECE OF HEAVEN LEARNING CENTER LLC        771 HARRISBURG PIKE   \n",
       "A LOVE FOR CHILDREN, LLC                               4656 HEATON ROAD   \n",
       "A MILLION DREAMS LEARNING CENTER                        541 MAIN STREET   \n",
       "A MOTHER'S LUV EARLY EDUCATION CENTER                   3142 READING RD   \n",
       "A MOTHERS TOUCH LAST FOREVER LLC                  3006/3010 DOUGLAS RD.   \n",
       "A PLACE FOR EVERYONE LLC                                 5192 DARROW RD   \n",
       "A PLACE TO GROW ACADEMY                             6760 DISCOVERY BLVD   \n",
       "A PLACE TO GROW DAYCARE CENTER AND PRESCHOOL LLC  115 W ST CLAIR ST # A   \n",
       "A PLACE TO LEARN AND GROW INCORPORATED                  407 SIXTH ST NW   \n",
       "\n",
       "                                                           City    Zip  \n",
       "program_name                                                            \n",
       "A BRIGHT START 4 KIDZ LEARNING CTR                    CLEVELAND  44104  \n",
       "A BRIGHTER START CHILDCARE                           CINCINNATI  45239  \n",
       "A CHILD'S GARDEN                                     CINCINNATI  45238  \n",
       "A CHILD'S JOURNEY LEARNING CENTER                     WHITEHALL  43213  \n",
       "A CHILD'S PLACE LEARNING CENTER                    REYNOLDSBURG  43068  \n",
       "A GREAT START PRESCHOOL INC                              DAYTON  45459  \n",
       "A JOYFUL JOURNEY ACADEMY                               COLUMBUS  43227  \n",
       "A JUBILEE ACADEMY                                     CLEVELAND  44110  \n",
       "A KIDS ONLY EARLY LEARNING CENTER INC. 4              ASHTABULA  44004  \n",
       "A KIDS ONLY EARLY LEARNING CT INC                     ASHTABULA  44004  \n",
       "A KID'S PLACE CHILDCARE                           NORTH OLMSTED  44070  \n",
       "A LITTLE PIECE OF HEAVEN LEARNING CENTER LLC           COLUMBUS  43223  \n",
       "A LOVE FOR CHILDREN, LLC                               COLUMBUS  43229  \n",
       "A MILLION DREAMS LEARNING CENTER                        MILFORD  45150  \n",
       "A MOTHER'S LUV EARLY EDUCATION CENTER                CINCINNATI  45229  \n",
       "A MOTHERS TOUCH LAST FOREVER LLC                         TOLEDO  43606  \n",
       "A PLACE FOR EVERYONE LLC                                 HUDSON  44236  \n",
       "A PLACE TO GROW ACADEMY                                  DUBLIN  43017  \n",
       "A PLACE TO GROW DAYCARE CENTER AND PRESCHOOL LLC          EATON  45320  \n",
       "A PLACE TO LEARN AND GROW INCORPORATED                   CANTON  44702  "
      ],
      "text/html": [
       "<div>\n",
       "<style scoped>\n",
       "    .dataframe tbody tr th:only-of-type {\n",
       "        vertical-align: middle;\n",
       "    }\n",
       "\n",
       "    .dataframe tbody tr th {\n",
       "        vertical-align: top;\n",
       "    }\n",
       "\n",
       "    .dataframe thead th {\n",
       "        text-align: right;\n",
       "    }\n",
       "</style>\n",
       "<table border=\"1\" class=\"dataframe\">\n",
       "  <thead>\n",
       "    <tr style=\"text-align: right;\">\n",
       "      <th></th>\n",
       "      <th>pdf</th>\n",
       "      <th>Address</th>\n",
       "      <th>City</th>\n",
       "      <th>Zip</th>\n",
       "    </tr>\n",
       "    <tr>\n",
       "      <th>program_name</th>\n",
       "      <th></th>\n",
       "      <th></th>\n",
       "      <th></th>\n",
       "      <th></th>\n",
       "    </tr>\n",
       "  </thead>\n",
       "  <tbody>\n",
       "    <tr>\n",
       "      <th>A BRIGHT START 4 KIDZ LEARNING CTR</th>\n",
       "      <td>https://childcaresearch.ohio.gov//pdf/00224002...</td>\n",
       "      <td>8211 PLATT</td>\n",
       "      <td>CLEVELAND</td>\n",
       "      <td>44104</td>\n",
       "    </tr>\n",
       "    <tr>\n",
       "      <th>A BRIGHTER START CHILDCARE</th>\n",
       "      <td>https://childcaresearch.ohio.gov//pdf/00000020...</td>\n",
       "      <td>2765 BLUE ROCK RD.</td>\n",
       "      <td>CINCINNATI</td>\n",
       "      <td>45239</td>\n",
       "    </tr>\n",
       "    <tr>\n",
       "      <th>A CHILD'S GARDEN</th>\n",
       "      <td>https://childcaresearch.ohio.gov//pdf/00000020...</td>\n",
       "      <td>5427 JULMAR DRIVE</td>\n",
       "      <td>CINCINNATI</td>\n",
       "      <td>45238</td>\n",
       "    </tr>\n",
       "    <tr>\n",
       "      <th>A CHILD'S JOURNEY LEARNING CENTER</th>\n",
       "      <td>https://childcaresearch.ohio.gov//pdf/00217001...</td>\n",
       "      <td>846 S. YEARLING RD</td>\n",
       "      <td>WHITEHALL</td>\n",
       "      <td>43213</td>\n",
       "    </tr>\n",
       "    <tr>\n",
       "      <th>A CHILD'S PLACE LEARNING CENTER</th>\n",
       "      <td>https://childcaresearch.ohio.gov//pdf/00000040...</td>\n",
       "      <td>2010 OFFICEVIEW PLACE</td>\n",
       "      <td>REYNOLDSBURG</td>\n",
       "      <td>43068</td>\n",
       "    </tr>\n",
       "    <tr>\n",
       "      <th>A GREAT START PRESCHOOL INC</th>\n",
       "      <td>https://childcaresearch.ohio.gov//pdf/00000020...</td>\n",
       "      <td>7001 FAR HILLS AVE</td>\n",
       "      <td>DAYTON</td>\n",
       "      <td>45459</td>\n",
       "    </tr>\n",
       "    <tr>\n",
       "      <th>A JOYFUL JOURNEY ACADEMY</th>\n",
       "      <td>https://childcaresearch.ohio.gov//pdf/00222002...</td>\n",
       "      <td>1536 BARNETT ROAD</td>\n",
       "      <td>COLUMBUS</td>\n",
       "      <td>43227</td>\n",
       "    </tr>\n",
       "    <tr>\n",
       "      <th>A JUBILEE ACADEMY</th>\n",
       "      <td>https://childcaresearch.ohio.gov//pdf/00000030...</td>\n",
       "      <td>15751 LAKESHORE BLVD</td>\n",
       "      <td>CLEVELAND</td>\n",
       "      <td>44110</td>\n",
       "    </tr>\n",
       "    <tr>\n",
       "      <th>A KIDS ONLY EARLY LEARNING CENTER INC. 4</th>\n",
       "      <td>https://childcaresearch.ohio.gov//pdf/00219001...</td>\n",
       "      <td>2505 SOUTH RIDGE EAST</td>\n",
       "      <td>ASHTABULA</td>\n",
       "      <td>44004</td>\n",
       "    </tr>\n",
       "    <tr>\n",
       "      <th>A KIDS ONLY EARLY LEARNING CT INC</th>\n",
       "      <td>https://childcaresearch.ohio.gov//pdf/00000030...</td>\n",
       "      <td>2621 STATE ROAD</td>\n",
       "      <td>ASHTABULA</td>\n",
       "      <td>44004</td>\n",
       "    </tr>\n",
       "    <tr>\n",
       "      <th>A KID'S PLACE CHILDCARE</th>\n",
       "      <td>https://childcaresearch.ohio.gov//pdf/00000030...</td>\n",
       "      <td>30121 LORAIN RD</td>\n",
       "      <td>NORTH OLMSTED</td>\n",
       "      <td>44070</td>\n",
       "    </tr>\n",
       "    <tr>\n",
       "      <th>A LITTLE PIECE OF HEAVEN LEARNING CENTER LLC</th>\n",
       "      <td>https://childcaresearch.ohio.gov//pdf/00000040...</td>\n",
       "      <td>771 HARRISBURG PIKE</td>\n",
       "      <td>COLUMBUS</td>\n",
       "      <td>43223</td>\n",
       "    </tr>\n",
       "    <tr>\n",
       "      <th>A LOVE FOR CHILDREN, LLC</th>\n",
       "      <td>https://childcaresearch.ohio.gov//pdf/00000040...</td>\n",
       "      <td>4656 HEATON ROAD</td>\n",
       "      <td>COLUMBUS</td>\n",
       "      <td>43229</td>\n",
       "    </tr>\n",
       "    <tr>\n",
       "      <th>A MILLION DREAMS LEARNING CENTER</th>\n",
       "      <td>https://childcaresearch.ohio.gov//pdf/00220002...</td>\n",
       "      <td>541 MAIN STREET</td>\n",
       "      <td>MILFORD</td>\n",
       "      <td>45150</td>\n",
       "    </tr>\n",
       "    <tr>\n",
       "      <th>A MOTHER'S LUV EARLY EDUCATION CENTER</th>\n",
       "      <td>https://childcaresearch.ohio.gov//pdf/00223002...</td>\n",
       "      <td>3142 READING RD</td>\n",
       "      <td>CINCINNATI</td>\n",
       "      <td>45229</td>\n",
       "    </tr>\n",
       "    <tr>\n",
       "      <th>A MOTHERS TOUCH LAST FOREVER LLC</th>\n",
       "      <td>https://childcaresearch.ohio.gov//pdf/00219002...</td>\n",
       "      <td>3006/3010 DOUGLAS RD.</td>\n",
       "      <td>TOLEDO</td>\n",
       "      <td>43606</td>\n",
       "    </tr>\n",
       "    <tr>\n",
       "      <th>A PLACE FOR EVERYONE LLC</th>\n",
       "      <td>https://childcaresearch.ohio.gov//pdf/00000010...</td>\n",
       "      <td>5192 DARROW RD</td>\n",
       "      <td>HUDSON</td>\n",
       "      <td>44236</td>\n",
       "    </tr>\n",
       "    <tr>\n",
       "      <th>A PLACE TO GROW ACADEMY</th>\n",
       "      <td>https://childcaresearch.ohio.gov//pdf/00221002...</td>\n",
       "      <td>6760 DISCOVERY BLVD</td>\n",
       "      <td>DUBLIN</td>\n",
       "      <td>43017</td>\n",
       "    </tr>\n",
       "    <tr>\n",
       "      <th>A PLACE TO GROW DAYCARE CENTER AND PRESCHOOL LLC</th>\n",
       "      <td>https://childcaresearch.ohio.gov//pdf/00218001...</td>\n",
       "      <td>115 W ST CLAIR ST # A</td>\n",
       "      <td>EATON</td>\n",
       "      <td>45320</td>\n",
       "    </tr>\n",
       "    <tr>\n",
       "      <th>A PLACE TO LEARN AND GROW INCORPORATED</th>\n",
       "      <td>https://childcaresearch.ohio.gov//pdf/00000010...</td>\n",
       "      <td>407 SIXTH ST NW</td>\n",
       "      <td>CANTON</td>\n",
       "      <td>44702</td>\n",
       "    </tr>\n",
       "  </tbody>\n",
       "</table>\n",
       "</div>"
      ]
     },
     "execution_count": 8,
     "metadata": {},
     "output_type": "execute_result"
    }
   ],
   "execution_count": 8
  },
  {
   "cell_type": "code",
   "id": "d40da76de505c140",
   "metadata": {
    "ExecuteTime": {
     "end_time": "2025-01-04T04:52:29.444057Z",
     "start_time": "2025-01-04T04:52:25.337886Z"
    }
   },
   "source": [
    "local_file, _ = urllib.request.urlretrieve(pdf_links.iloc[1]['pdf'])\n",
    "local_file"
   ],
   "outputs": [
    {
     "data": {
      "text/plain": [
       "'C:\\\\Users\\\\WILLBL~1\\\\AppData\\\\Local\\\\Temp\\\\tmp1eecb9pt'"
      ]
     },
     "execution_count": 9,
     "metadata": {},
     "output_type": "execute_result"
    }
   ],
   "execution_count": 9
  },
  {
   "cell_type": "markdown",
   "id": "e9be54e0c7dd61e8",
   "metadata": {},
   "source": [
    "# Extract Text from PDF"
   ]
  },
  {
   "cell_type": "code",
   "id": "600c298555b7d535",
   "metadata": {
    "ExecuteTime": {
     "end_time": "2025-01-04T04:52:32.100968Z",
     "start_time": "2025-01-04T04:52:29.444057Z"
    }
   },
   "source": "images = convert_from_path(local_file, dpi=300)",
   "outputs": [],
   "execution_count": 10
  },
  {
   "cell_type": "code",
   "id": "2ef53c3d0538b8cd",
   "metadata": {
    "ExecuteTime": {
     "end_time": "2025-01-04T04:52:32.104051Z",
     "start_time": "2025-01-04T04:52:32.101973Z"
    }
   },
   "source": [
    "image = images[0]"
   ],
   "outputs": [],
   "execution_count": 11
  },
  {
   "metadata": {
    "ExecuteTime": {
     "end_time": "2025-01-04T04:52:32.108558Z",
     "start_time": "2025-01-04T04:52:32.104051Z"
    }
   },
   "cell_type": "code",
   "source": "len(images)",
   "id": "c5204270cdfa729",
   "outputs": [
    {
     "data": {
      "text/plain": [
       "12"
      ]
     },
     "execution_count": 12,
     "metadata": {},
     "output_type": "execute_result"
    }
   ],
   "execution_count": 12
  },
  {
   "cell_type": "code",
   "id": "40612a8ed795f016",
   "metadata": {
    "ExecuteTime": {
     "end_time": "2025-01-04T04:52:33.723105Z",
     "start_time": "2025-01-04T04:52:32.108558Z"
    }
   },
   "source": [
    "ocr = easyocr.Reader(['en'], gpu=True)"
   ],
   "outputs": [],
   "execution_count": 13
  },
  {
   "cell_type": "code",
   "id": "c474538e",
   "metadata": {
    "ExecuteTime": {
     "end_time": "2025-01-04T04:52:36.348538Z",
     "start_time": "2025-01-04T04:52:33.726108Z"
    }
   },
   "source": [
    "extracted_text = process_image(image, ocr, verbose=True, display=True)\n",
    "extracted_text"
   ],
   "outputs": [
    {
     "name": "stdout",
     "output_type": "stream",
     "text": [
      "Detected 72 hierarchical sub-rectangles.\n",
      "No text detected in sub-rectangle 6.\n",
      "No text detected in sub-rectangle 39.\n",
      "No text detected in sub-rectangle 53.\n",
      "Extracted 69 / 72 text fields with an average confidence of 0.89.\n"
     ]
    },
    {
     "data": {
      "text/plain": [
       "[((152, 757, 2247, 59), [('Program Detalls', np.float64(1.0))]),\n",
       " ((152, 819, 858, 168),\n",
       "  [('Program Name', np.float64(1.0)),\n",
       "   ('BRIGHTER START CHILDCARE', np.float64(0.94)),\n",
       "   ('4', np.float64(0.39))]),\n",
       " ((1012, 819, 805, 168),\n",
       "  [('Program Number', np.float64(0.94)), ('000000200979', np.float64(0.58))]),\n",
       " ((1818, 819, 582, 168),\n",
       "  [('Program Type', np.float64(1.0)), ('Child Care Center', np.float64(1.0))]),\n",
       " ((152, 989, 1664, 225),\n",
       "  [('Address', np.float64(1.0)),\n",
       "   ('2765 BLUE ROCK RD. CINCINNATI', np.float64(0.77)),\n",
       "   ('OH', np.float64(0.98)),\n",
       "   ('45239', np.float64(1.0))]),\n",
       " ((1818, 989, 582, 225),\n",
       "  [('County', np.float64(1.0)), ('HAMILTON', np.float64(1.0))]),\n",
       " ((152, 1216, 2248, 55), []),\n",
       " ((152, 1273, 858, 112), [('Building Approval Date', np.float64(0.81))]),\n",
       " ((1012, 1273, 385, 112), [('Use Group/Code', np.float64(0.96))]),\n",
       " ((1399, 1273, 499, 112), [('Occupancy Limit', np.float64(1.0))]),\n",
       " ((1899, 1273, 501, 112), [('Maximum Under 2 Y', np.float64(0.69))]),\n",
       " ((152, 1387, 858, 112),\n",
       "  [('Fire Inspection Approval Date', np.float64(0.84)),\n",
       "   ('09/20/2024', np.float64(1.0))]),\n",
       " ((1012, 1387, 1388, 112),\n",
       "  [('Food Servvice Risk Level', np.float64(0.87)),\n",
       "   ('Level II', np.float64(0.6))]),\n",
       " ((152, 1565, 2248, 60), [('Inspection Information', np.float64(0.98))]),\n",
       " ((152, 1627, 729, 108),\n",
       "  [('Inspection Type', np.float64(0.99)), ('Annual', np.float64(1.0))]),\n",
       " ((883, 1627, 692, 108),\n",
       "  [('Inspection Scope', np.float64(1.0)), ('Full', np.float64(1.0))]),\n",
       " ((1576, 1627, 824, 108),\n",
       "  [('Inspection Notice', np.float64(0.98)), ('Unannounced', np.float64(1.0))]),\n",
       " ((152, 1740, 729, 108),\n",
       "  [('Inspection Date', np.float64(0.74)), ('10/02/2024', np.float64(0.97))]),\n",
       " ((883, 1740, 692, 108),\n",
       "  [('Begin Time', np.float64(1.0)), ('9:00 AM', np.float64(0.95))]),\n",
       " ((1576, 1740, 824, 108),\n",
       "  [('End Time', np.float64(0.87)), ('11.30 AM', np.float64(0.97))]),\n",
       " ((152, 1849, 2248, 136),\n",
       "  [('Reviewer:', np.float64(0.76)), ('Kristin Blassingame', np.float64(1.0))]),\n",
       " ((152, 1991, 2248, 60), [('Summary of Findings', np.float64(0.93))]),\n",
       " ((152, 2053, 353, 108),\n",
       "  [('No. Rules Verified', np.float64(0.91)), ('58', np.float64(1.0))]),\n",
       " ((507, 2053, 617, 108),\n",
       "  [('No: Rules with Non-compliances', np.float64(0.74)),\n",
       "   ('10', np.float64(1.0))]),\n",
       " ((1125, 2053, 393, 108), [('No. Serious Risk', np.float64(0.99))]),\n",
       " ((1519, 2053, 430, 108),\n",
       "  [('Moderate Risk', np.float64(1.0)),\n",
       "   ('No', np.float64(1.0)),\n",
       "   ('2', np.float64(0.99))]),\n",
       " ((1951, 2053, 449, 108),\n",
       "  [('No. Low Risk', np.float64(0.77)), ('9', np.float64(1.0))]),\n",
       " ((152, 2248, 2247, 60),\n",
       "  [('License Capactty and Enrollment at the Time of Inspection',\n",
       "    np.float64(0.58))]),\n",
       " ((152, 2310, 560, 115), [('Age Group', np.float64(1.0))]),\n",
       " ((713, 2310, 356, 57), [('License Capacity', np.float64(0.97))]),\n",
       " ((1070, 2310, 1330, 57), [('Enrollment', np.float64(1.0))]),\n",
       " ((713, 2369, 356, 56), [('Totals', np.float64(1.0))]),\n",
       " ((1070, 2369, 224, 56), [('Full Time', np.float64(0.99))]),\n",
       " ((1295, 2369, 397, 56), [('Part Time', np.float64(0.95))]),\n",
       " ((1693, 2369, 707, 56), [('Total', np.float64(1.0))]),\n",
       " ((152, 2427, 560, 56),\n",
       "  [('Infant', np.float64(1.0)), ('Birth to < 18 m)', np.float64(0.82))]),\n",
       " ((1070, 2427, 224, 56), [('11', np.float64(1.0))]),\n",
       " ((1295, 2427, 397, 56), [('0', np.float64(1.0))]),\n",
       " ((1693, 2427, 707, 56), [('11', np.float64(1.0))]),\n",
       " ((715, 2428, 353, 112), []),\n",
       " ((152, 2485, 560, 56), [('Young Toddler', np.float64(1.0))]),\n",
       " ((1070, 2485, 224, 56), [('0', np.float64(1.0))]),\n",
       " ((1295, 2485, 397, 56), [('0', np.float64(1.0))]),\n",
       " ((1693, 2485, 707, 56), [('0', np.float64(0.53))]),\n",
       " ((152, 2543, 560, 56), [('Total Under 2 %a Years', np.float64(0.53))]),\n",
       " ((713, 2543, 356, 56), [('21', np.float64(1.0))]),\n",
       " ((1070, 2543, 224, 56), [('11', np.float64(1.0))]),\n",
       " ((1295, 2543, 397, 56), [('0', np.float64(1.0))]),\n",
       " ((1693, 2543, 707, 56), [('11', np.float64(1.0))]),\n",
       " ((152, 2601, 560, 56), [('Older Toddler', np.float64(0.95))]),\n",
       " ((1070, 2601, 224, 56), [('0', np.float64(1.0))]),\n",
       " ((1295, 2601, 397, 56), [('0', np.float64(1.0))]),\n",
       " ((1693, 2601, 707, 56), [('0', np.float64(0.95))]),\n",
       " ((714, 2602, 353, 170), []),\n",
       " ((152, 2659, 560, 57), [('Preschool', np.float64(1.0))]),\n",
       " ((1070, 2659, 224, 57), [('21', np.float64(1.0))]),\n",
       " ((1295, 2659, 397, 57), [('0', np.float64(1.0))]),\n",
       " ((1693, 2659, 707, 57), [('21', np.float64(1.0))]),\n",
       " ((152, 2718, 560, 56), [('School Age', np.float64(1.0))]),\n",
       " ((1070, 2718, 224, 56), [('0', np.float64(1.0))]),\n",
       " ((1295, 2718, 397, 56), [('0', np.float64(1.0))]),\n",
       " ((1693, 2718, 707, 56), [('0', np.float64(0.57))]),\n",
       " ((152, 2775, 560, 57), [('Total Capacity/Enrollment', np.float64(0.94))]),\n",
       " ((713, 2775, 356, 57), [('44', np.float64(0.96))]),\n",
       " ((1070, 2775, 224, 57), [('21', np.float64(1.0))]),\n",
       " ((1295, 2775, 397, 57), [('0', np.float64(1.0))]),\n",
       " ((1693, 2775, 707, 57), [('32', np.float64(1.0))]),\n",
       " ((152, 2924, 2246, 61),\n",
       "  [('Staff-Chlld Ratios at the Tlme of Inspection', np.float64(0.69))]),\n",
       " ((152, 2987, 709, 56), [('Group', np.float64(1.0))]),\n",
       " ((863, 2987, 709, 56), [('Ase Group/Range', np.float64(0.79))]),\n",
       " ((1574, 2987, 439, 56), [('Ratio Observed', np.float64(0.98))]),\n",
       " ((2016, 2987, 383, 56), [('Commant', np.float64(0.58))])]"
      ]
     },
     "execution_count": 14,
     "metadata": {},
     "output_type": "execute_result"
    }
   ],
   "execution_count": 14
  },
  {
   "cell_type": "code",
   "id": "73c5966a",
   "metadata": {
    "ExecuteTime": {
     "end_time": "2025-01-04T04:52:36.351874Z",
     "start_time": "2025-01-04T04:52:36.348538Z"
    }
   },
   "source": [
    "p1_fields = [ \"Program Name\",\n",
    "        \"Program Number\",\n",
    "        \"Program Type\",\n",
    "        \"County\",\n",
    "        \"Building Approval Date\",\n",
    "        \"Use Group/Code\",\n",
    "        \"Occupancy Limit\",\n",
    "        \"Maximum Under 2\",   # under 2 1/2 but idk how this will be read...\n",
    "        \"Fire Inspection Approval Date\",\n",
    "        \"Food Service Risk Level\",\n",
    "        \"Inspection Type\",\n",
    "        \"Inspection Scope\",\n",
    "        \"Inspection Notice\",\n",
    "        \"Inspection Date\",\n",
    "        \"Begin Time\",\n",
    "        \"End Time\",\n",
    "        \"Reviewer\",\n",
    "        \"No. Rules Verified\",\n",
    "        \"No. Rules with Non-compliances\",\n",
    "        \"No. Serious Risk\",\n",
    "        \"No. Moderate Risk\",\n",
    "        \"No. Low Risk\"\n",
    "]"
   ],
   "outputs": [],
   "execution_count": 15
  },
  {
   "cell_type": "code",
   "id": "bc40b945b6cabac5",
   "metadata": {
    "ExecuteTime": {
     "end_time": "2025-01-04T04:52:36.380629Z",
     "start_time": "2025-01-04T04:52:36.351874Z"
    }
   },
   "source": [
    "process_ocr_to_dataframe(extracted_text, p1_fields)"
   ],
   "outputs": [
    {
     "data": {
      "text/plain": [
       "                    Program Number              Program Type           County  \\\n",
       "Program Name                                                                    \n",
       "4             (000000200979, 0.94)  (Child Care Center, 1.0)  (HAMILTON, 1.0)   \n",
       "\n",
       "             Building Approval Date Use Group/Code Occupancy Limit  \\\n",
       "Program Name                                                         \n",
       "4                              None           None            None   \n",
       "\n",
       "             Maximum Under 2 Fire Inspection Approval Date  \\\n",
       "Program Name                                                 \n",
       "4                       None            (09/20/2024, 0.84)   \n",
       "\n",
       "             Food Service Risk Level Inspection Type  ...  \\\n",
       "Program Name                                          ...   \n",
       "4                   (Level II, 0.87)  (Annual, 0.99)  ...   \n",
       "\n",
       "                Inspection Notice     Inspection Date      Begin Time  \\\n",
       "Program Name                                                            \n",
       "4             (Unannounced, 0.98)  (10/02/2024, 0.74)  (9:00 AM, 1.0)   \n",
       "\n",
       "                      End Time                     Reviewer  \\\n",
       "Program Name                                                  \n",
       "4             (11.30 AM, 0.87)  (Kristin Blassingame, 0.76)   \n",
       "\n",
       "             No. Rules Verified No. Rules with Non-compliances  \\\n",
       "Program Name                                                     \n",
       "4                    (58, 0.91)                     (10, 0.74)   \n",
       "\n",
       "             No. Serious Risk No. Moderate Risk No. Low Risk  \n",
       "Program Name                                                  \n",
       "4                        None              None    (9, 0.77)  \n",
       "\n",
       "[1 rows x 21 columns]"
      ],
      "text/html": [
       "<div>\n",
       "<style scoped>\n",
       "    .dataframe tbody tr th:only-of-type {\n",
       "        vertical-align: middle;\n",
       "    }\n",
       "\n",
       "    .dataframe tbody tr th {\n",
       "        vertical-align: top;\n",
       "    }\n",
       "\n",
       "    .dataframe thead th {\n",
       "        text-align: right;\n",
       "    }\n",
       "</style>\n",
       "<table border=\"1\" class=\"dataframe\">\n",
       "  <thead>\n",
       "    <tr style=\"text-align: right;\">\n",
       "      <th></th>\n",
       "      <th>Program Number</th>\n",
       "      <th>Program Type</th>\n",
       "      <th>County</th>\n",
       "      <th>Building Approval Date</th>\n",
       "      <th>Use Group/Code</th>\n",
       "      <th>Occupancy Limit</th>\n",
       "      <th>Maximum Under 2</th>\n",
       "      <th>Fire Inspection Approval Date</th>\n",
       "      <th>Food Service Risk Level</th>\n",
       "      <th>Inspection Type</th>\n",
       "      <th>...</th>\n",
       "      <th>Inspection Notice</th>\n",
       "      <th>Inspection Date</th>\n",
       "      <th>Begin Time</th>\n",
       "      <th>End Time</th>\n",
       "      <th>Reviewer</th>\n",
       "      <th>No. Rules Verified</th>\n",
       "      <th>No. Rules with Non-compliances</th>\n",
       "      <th>No. Serious Risk</th>\n",
       "      <th>No. Moderate Risk</th>\n",
       "      <th>No. Low Risk</th>\n",
       "    </tr>\n",
       "    <tr>\n",
       "      <th>Program Name</th>\n",
       "      <th></th>\n",
       "      <th></th>\n",
       "      <th></th>\n",
       "      <th></th>\n",
       "      <th></th>\n",
       "      <th></th>\n",
       "      <th></th>\n",
       "      <th></th>\n",
       "      <th></th>\n",
       "      <th></th>\n",
       "      <th></th>\n",
       "      <th></th>\n",
       "      <th></th>\n",
       "      <th></th>\n",
       "      <th></th>\n",
       "      <th></th>\n",
       "      <th></th>\n",
       "      <th></th>\n",
       "      <th></th>\n",
       "      <th></th>\n",
       "      <th></th>\n",
       "    </tr>\n",
       "  </thead>\n",
       "  <tbody>\n",
       "    <tr>\n",
       "      <th>4</th>\n",
       "      <td>(000000200979, 0.94)</td>\n",
       "      <td>(Child Care Center, 1.0)</td>\n",
       "      <td>(HAMILTON, 1.0)</td>\n",
       "      <td>None</td>\n",
       "      <td>None</td>\n",
       "      <td>None</td>\n",
       "      <td>None</td>\n",
       "      <td>(09/20/2024, 0.84)</td>\n",
       "      <td>(Level II, 0.87)</td>\n",
       "      <td>(Annual, 0.99)</td>\n",
       "      <td>...</td>\n",
       "      <td>(Unannounced, 0.98)</td>\n",
       "      <td>(10/02/2024, 0.74)</td>\n",
       "      <td>(9:00 AM, 1.0)</td>\n",
       "      <td>(11.30 AM, 0.87)</td>\n",
       "      <td>(Kristin Blassingame, 0.76)</td>\n",
       "      <td>(58, 0.91)</td>\n",
       "      <td>(10, 0.74)</td>\n",
       "      <td>None</td>\n",
       "      <td>None</td>\n",
       "      <td>(9, 0.77)</td>\n",
       "    </tr>\n",
       "  </tbody>\n",
       "</table>\n",
       "<p>1 rows × 21 columns</p>\n",
       "</div>"
      ]
     },
     "execution_count": 16,
     "metadata": {},
     "output_type": "execute_result"
    }
   ],
   "execution_count": 16
  },
  {
   "cell_type": "code",
   "id": "10582c46c5504abc",
   "metadata": {
    "ExecuteTime": {
     "end_time": "2025-01-04T04:54:13.738501Z",
     "start_time": "2025-01-04T04:54:13.734445Z"
    }
   },
   "source": "extract_license_capacity_table(extracted_text)",
   "outputs": [
    {
     "data": {
      "text/plain": [
       "{'License Capacity': {'Total Under 2': [('21', np.float64(1.0))],\n",
       "  'Total Capacity/Enrollment': [('44', np.float64(0.96))]},\n",
       " 'Infant': {'Full Time': ('11', np.float64(1.0)),\n",
       "  'Part Time': ('0', np.float64(1.0)),\n",
       "  'Total': ('11', np.float64(1.0))},\n",
       " 'Young Toddler': {'Full Time': ('0', np.float64(1.0)),\n",
       "  'Part Time': ('0', np.float64(1.0)),\n",
       "  'Total': ('0', np.float64(0.53))},\n",
       " 'Total Under 2': {'Full Time': ('11', np.float64(1.0)),\n",
       "  'Part Time': ('0', np.float64(1.0)),\n",
       "  'Total': ('11', np.float64(1.0))},\n",
       " 'Older Toddler': {'Full Time': ('0', np.float64(1.0)),\n",
       "  'Part Time': ('0', np.float64(1.0)),\n",
       "  'Total': ('0', np.float64(0.95))},\n",
       " 'Preschool': {'Full Time': ('21', np.float64(1.0)),\n",
       "  'Part Time': ('0', np.float64(1.0)),\n",
       "  'Total': ('21', np.float64(1.0))},\n",
       " 'School': {'Full Time': ('0', np.float64(1.0)),\n",
       "  'Part Time': ('0', np.float64(1.0)),\n",
       "  'Total': ('0', np.float64(0.57))},\n",
       " 'Total Capacity/Enrollment': {'Full Time': ('21', np.float64(1.0)),\n",
       "  'Part Time': ('0', np.float64(1.0)),\n",
       "  'Total': ('32', np.float64(1.0))}}"
      ]
     },
     "execution_count": 19,
     "metadata": {},
     "output_type": "execute_result"
    }
   ],
   "execution_count": 19
  },
  {
   "cell_type": "code",
   "id": "f8413ca6",
   "metadata": {},
   "source": [
    "rows = group_into_rows(extracted_text)\n",
    "rows[15]"
   ],
   "outputs": [],
   "execution_count": null
  },
  {
   "cell_type": "code",
   "id": "8a79df33",
   "metadata": {},
   "source": [
    "page_2 = process_image(images[1], ocr, display=True)\n",
    "group_into_rows(page_2)"
   ],
   "outputs": [],
   "execution_count": null
  },
  {
   "cell_type": "code",
   "id": "1e70d7db",
   "metadata": {
    "ExecuteTime": {
     "end_time": "2025-01-04T04:52:36.680055Z",
     "start_time": "2025-01-04T04:52:36.680055Z"
    }
   },
   "source": [
    "page_3 = process_image(images[2], ocr, display=True)\n",
    "group_into_rows(page_3)"
   ],
   "outputs": [],
   "execution_count": null
  },
  {
   "metadata": {},
   "cell_type": "code",
   "source": [
    "# rows = []\n",
    "# for i in range(3, len(images)):\n",
    "#     page = process_image(images[i], ocr, display=True)\n",
    "#     rows.append(group_into_rows(page))\n",
    "#    \n",
    "# rows[-1]"
   ],
   "id": "ac2dd602e8e11bee",
   "outputs": [],
   "execution_count": null
  },
  {
   "metadata": {},
   "cell_type": "code",
   "source": [
    "local_file2, _ = urllib.request.urlretrieve(pdf_links.iloc[0]['pdf'])\n",
    "# Extract Text from PDF\n",
    "images2 = convert_from_path(local_file2, dpi=300)\n",
    "\n",
    "\n",
    "rows2 = []\n",
    "for i, image in enumerate(images2):\n",
    "    page = process_image(image, ocr, display=True)\n",
    "    rows2 += group_into_rows(page)\n",
    "    \n",
    "rows2"
   ],
   "id": "ea4fdf4dff101caf",
   "outputs": [],
   "execution_count": null
  },
  {
   "metadata": {},
   "cell_type": "code",
   "source": "extract_license_capacity_table(rows2)",
   "id": "9c98a7465135359b",
   "outputs": [],
   "execution_count": null
  },
  {
   "metadata": {},
   "cell_type": "markdown",
   "source": "",
   "id": "61d6cd048ddc1f12"
  },
  {
   "metadata": {
    "ExecuteTime": {
     "end_time": "2025-01-04T05:16:22.210957Z",
     "start_time": "2025-01-04T05:16:22.209274Z"
    }
   },
   "cell_type": "code",
   "source": "",
   "id": "5e87962b2cbfe8b4",
   "outputs": [],
   "execution_count": 26
  },
  {
   "metadata": {},
   "cell_type": "code",
   "outputs": [],
   "execution_count": null,
   "source": "",
   "id": "91b717ec81ded75b"
  }
 ],
 "metadata": {
  "kernelspec": {
   "display_name": "venv",
   "language": "python",
   "name": "python3"
  },
  "language_info": {
   "codemirror_mode": {
    "name": "ipython",
    "version": 3
   },
   "file_extension": ".py",
   "mimetype": "text/x-python",
   "name": "python",
   "nbconvert_exporter": "python",
   "pygments_lexer": "ipython3",
   "version": "3.11.0"
  }
 },
 "nbformat": 4,
 "nbformat_minor": 5
}
