{
 "cells": [
  {
   "cell_type": "code",
   "id": "initial_id",
   "metadata": {
    "collapsed": true,
    "ExecuteTime": {
     "end_time": "2024-10-19T21:28:49.290676Z",
     "start_time": "2024-10-19T21:28:49.287571Z"
    }
   },
   "source": [
    "import pandas as pd\n",
    "import requests\n",
    "import os\n",
    "import re\n",
    "\n",
    "from bs4 import BeautifulSoup\n",
    "#from pdfminer"
   ],
   "outputs": [],
   "execution_count": 6
  },
  {
   "metadata": {},
   "cell_type": "markdown",
   "source": "# Link and File Paths",
   "id": "fa45a4c2e2fbe6f7"
  },
  {
   "metadata": {
    "ExecuteTime": {
     "end_time": "2024-10-19T21:28:49.295145Z",
     "start_time": "2024-10-19T21:28:49.291681Z"
    }
   },
   "cell_type": "code",
   "source": "ODCY_LINK = \"https://childcaresearch.ohio.gov/search?q=fVLNbhMxEN40v0uapgKhHhAiBy6VQkUR1xwWN1VDIVl1V0gFcXDWk42FY6%2b83pS98Q6ICxdeg1fgyBvwJjB2uhCJqrPS2DOf59tvPPZqnuf9RrOrtd0ddCRhyRXMiVqtlBwO3oDOuZKj46On9hsOSCFMoWEkoTCaiuEgLOaCJ%2bdQxuoDyJEshGhaxkfbREcn8ewoAqqTJdHcgOb0MZ7ZC7VacwZ6WqzmoFtEFdKUDcJN2X7LM6IY7FZH4jKD1gU1XKbdkGrDqZjSFbQnckGlyXuXWJvGijGBknszYUuuIz%2fUkCdLpYQfuSVIoX9Cy3y2mGWgkVPJ%2fTNV6O1E8zVQke%2b%2fgIXSsCkjVEN3vAaJGuy%2bE13x1QqD%2b1EGiRUEwHKy5IJZeC%2fWVOaZ0sYR9oMFNv6PqTdbg5Y8XRob3TnlIFiseZYfjKkWpaPBs2z8MUMaJPDPgLLIYO%2f3Qs3X1MA5l9hmihmQB5tBiPK0wCT7q%2bLuK07nXOCVTmReoKIEmtNgfEma0zEJA9wTEqI%2fJaROZkEjINEEB5FKThsThLxaDce5eSPthnejNTudmrOH%2fw3dXesFlSm8e2%2ffV%2b1Gs8jOk%2bNW3bL59cpVL9MFm51V4DdvloHWt3h7q7TtztrIIo0Htwi0IvyWdZbA71jn2%2b5s7rZCp9cNJub4IseS2bUTgYDEAHM8rkUv%2b%2frymV1%2fPf%2fCnC77p9Z25vvn4JtDOhVynfl0%2bPPwh0P8CqmsYu3%2bAQ%3d%3d\"",
   "id": "9660cd02c29e86ea",
   "outputs": [],
   "execution_count": 7
  },
  {
   "metadata": {},
   "cell_type": "markdown",
   "source": "# Helper Functions",
   "id": "5812669b91e451a3"
  },
  {
   "metadata": {
    "ExecuteTime": {
     "end_time": "2024-10-19T21:28:49.317727Z",
     "start_time": "2024-10-19T21:28:49.314688Z"
    }
   },
   "cell_type": "code",
   "source": [
    "def extract_html(url):\n",
    "    # Send a GET request to the URL\n",
    "    response = requests.get(url)\n",
    "    \n",
    "    # Check if the request was successful (status code 200)\n",
    "    if response.status_code == 200:\n",
    "        # Parse the HTML content using BeautifulSoup\n",
    "        soup = BeautifulSoup(response.text, 'html.parser')\n",
    "        \n",
    "        # Return the BeautifulSoup object which contains the HTML\n",
    "        return soup\n",
    "    else:\n",
    "        print(f\"Failed to retrieve page, status code: {response.status_code}\")\n",
    "        return None"
   ],
   "id": "53076a6116606ac8",
   "outputs": [],
   "execution_count": 8
  },
  {
   "metadata": {
    "ExecuteTime": {
     "end_time": "2024-10-19T21:28:49.323030Z",
     "start_time": "2024-10-19T21:28:49.318731Z"
    }
   },
   "cell_type": "code",
   "source": [
    "def extract_all_pdfs(url):\n",
    "\n",
    "    pdf_urls = []\n",
    "    main_page = None\n",
    "    page_num = 1\n",
    "    \n",
    "    # loop for all available pages\n",
    "    while not (pdf_urls and main_page is None):\n",
    "        \n",
    "        # get the current page of results\n",
    "        main_page = extract_html(f\"{url}&{page_num}\")\n",
    "        \n",
    "        if main_page is not None:\n",
    "            # get all results rows for further processing\n",
    "            results_list = main_page.find('div', class_='resultsList') \n",
    "            rows = results_list.find_all('div', class_='resultsLIstRow')\n",
    "            \n",
    "            for row in rows:\n",
    "                program_name_column = row.find('div', class_='resultsListColumn programListColumnName')\n",
    "                \n",
    "                if program_name_column:\n",
    "                    # Extract the <a> tag with the program name and link\n",
    "                    program_link_tag = program_name_column.find('a')\n",
    "                    \n",
    "                    if program_link_tag:\n",
    "                        program_name = program_link_tag.text.strip()\n",
    "                        program_pdf_link = extract_pdf(program_link_tag['href'])\n",
    "                        program_df = pd.DataFrame()\n",
    "                        program_df['program_name'] = program_name\n",
    "                        program_df['pdf'] = program_pdf_link \n",
    "                        \n",
    "                        # save the current row  information\n",
    "                        pdf_urls.append(program_df)\n",
    "\n",
    "            break\n",
    "            \n",
    "        # next page \n",
    "        page_num += 1\n",
    "        \n",
    "    # combine into a single dataframe\n",
    "    return pd.concat(pdf_urls, axis=1)"
   ],
   "id": "617ba97567b5bfba",
   "outputs": [],
   "execution_count": 9
  },
  {
   "metadata": {
    "ExecuteTime": {
     "end_time": "2024-10-19T21:31:18.974743Z",
     "start_time": "2024-10-19T21:31:18.970196Z"
    }
   },
   "cell_type": "code",
   "source": [
    "def extract_inspection(url):\n",
    "    inspection_url = None\n",
    "\n",
    "    # get the html for the program page\n",
    "    program_page = extract_html(url)\n",
    "\n",
    "    if program_page:\n",
    "        inspection_button_span = program_page.find('span', class_='inspectionsButton')\n",
    "\n",
    "        if inspection_button_span:\n",
    "            inspection_link_tag = inspection_button_span.find_parent('a')\n",
    "\n",
    "            if inspection_link_tag and 'href' in inspection_link_tag.attrs:\n",
    "                inspection_url = \"https://childcaresearch.ohio.gov/\" + inspection_link_tag['href']\n",
    "                \n",
    "    return inspection_url"
   ],
   "id": "940dea10ba56e895",
   "outputs": [],
   "execution_count": 12
  },
  {
   "metadata": {
    "ExecuteTime": {
     "end_time": "2024-10-19T21:31:19.455696Z",
     "start_time": "2024-10-19T21:31:19.452450Z"
    }
   },
   "cell_type": "code",
   "source": [
    "def extract_pdf(url) -> str:\n",
    "\n",
    "                \n",
    "                \n",
    "                \n",
    "                \n",
    "    "
   ],
   "id": "101497edc03e62e5",
   "outputs": [
    {
     "ename": "SyntaxError",
     "evalue": "incomplete input (3686483611.py, line 7)",
     "output_type": "error",
     "traceback": [
      "\u001B[1;36m  Cell \u001B[1;32mIn[13], line 7\u001B[1;36m\u001B[0m\n\u001B[1;33m    \u001B[0m\n\u001B[1;37m    ^\u001B[0m\n\u001B[1;31mSyntaxError\u001B[0m\u001B[1;31m:\u001B[0m incomplete input\n"
     ]
    }
   ],
   "execution_count": 13
  },
  {
   "metadata": {},
   "cell_type": "markdown",
   "source": "# Extract PDF Links",
   "id": "a8015309a4a3ab61"
  },
  {
   "metadata": {},
   "cell_type": "code",
   "outputs": [],
   "execution_count": null,
   "source": "test_link = \"https://childcaresearch.ohio.gov/search?q=fVLNbhMxEN40v0uapgKhHhAiBy6VQkUR1xwWN1VDIVl1V0gFcXDWk42FY6%2b83pS98Q6ICxdeg1fgyBvwJjB2uhCJqrPS2DOf59tvPPZqnuf9RrOrtd0ddCRhyRXMiVqtlBwO3oDOuZKj46On9hsOSCFMoWEkoTCaiuEgLOaCJ%2bdQxuoDyJEshGhaxkfbREcn8ewoAqqTJdHcgOb0MZ7ZC7VacwZ6WqzmoFtEFdKUDcJN2X7LM6IY7FZH4jKD1gU1XKbdkGrDqZjSFbQnckGlyXuXWJvGijGBknszYUuuIz%2fUkCdLpYQfuSVIoX9Cy3y2mGWgkVPJ%2fTNV6O1E8zVQke%2b%2fgIXSsCkjVEN3vAaJGuy%2bE13x1QqD%2b1EGiRUEwHKy5IJZeC%2fWVOaZ0sYR9oMFNv6PqTdbg5Y8XRob3TnlIFiseZYfjKkWpaPBs2z8MUMaJPDPgLLIYO%2f3Qs3X1MA5l9hmihmQB5tBiPK0wCT7q%2bLuK07nXOCVTmReoKIEmtNgfEma0zEJA9wTEqI%2fJaROZkEjINEEB5FKThsThLxaDce5eSPthnejNTudmrOH%2fw3dXesFlSm8e2%2ffV%2b1Gs8jOk%2bNW3bL59cpVL9MFm51V4DdvloHWt3h7q7TtztrIIo0Htwi0IvyWdZbA71jn2%2b5s7rZCp9cNJub4IseS2bUTgYDEAHM8rkUv%2b%2frymV1%2fPf%2fCnC77p9Z25vvn4JtDOhVynfl0%2bPPwh0P8CqmsYu3%2bAQ%3d%3d&p=1\"",
   "id": "99469d8a35baaf6d"
  },
  {
   "metadata": {
    "ExecuteTime": {
     "end_time": "2024-10-19T21:31:22.953237Z",
     "start_time": "2024-10-19T21:31:22.618153Z"
    }
   },
   "cell_type": "code",
   "source": "extract_inspection(\"https://childcaresearch.ohio.gov/provider/2170012482/?q=fVLNbhMxEN40v0uapgKhHhAiBy6VQkUR1xwWN1VDIVl1V0gFcXDWk42FY6%2b83pS98Q6ICxdeg1fgyBvwJjB2uhCJqrPS2DOf59tvPPZqnuf9RrOrtd0ddCRhyRXMiVqtlBwO3oDOuZKj46On9hsOSCFMoWEkoTCaiuEgLOaCJ%2bdQxuoDyJEshGhaxkfbREcn8ewoAqqTJdHcgOb0MZ7ZC7VacwZ6WqzmoFtEFdKUDcJN2X7LM6IY7FZH4jKD1gU1XKbdkGrDqZjSFbQnckGlyXuXWJvGijGBknszYUuuIz%2fUkCdLpYQfuSVIoX9Cy3y2mGWgkVPJ%2fTNV6O1E8zVQke%2b%2fgIXSsCkjVEN3vAaJGuy%2bE13x1QqD%2b1EGiRUEwHKy5IJZeC%2fWVOaZ0sYR9oMFNv6PqTdbg5Y8XRob3TnlIFiseZYfjKkWpaPBs2z8MUMaJPDPgLLIYO%2f3Qs3X1MA5l9hmihmQB5tBiPK0wCT7q%2bLuK07nXOCVTmReoKIEmtNgfEma0zEJA9wTEqI%2fJaROZkEjINEEB5FKThsThLxaDce5eSPthnejNTudmrOH%2fw3dXesFlSm8e2%2ffV%2b1Gs8jOk%2bNW3bL59cpVL9MFm51V4DdvloHWt3h7q7TtztrIIo0Htwi0IvyWdZbA71jn2%2b5s7rZCp9cNJub4IseS2bUTgYDEAHM8rkUv%2b%2frymV1%2fPf%2fCnC77p9Z25vvn4JtDOhVynfl0%2bPPwh0P8CqmsYu3%2bAQ%3d%3d&p=1\")",
   "id": "f8e4072a37758f32",
   "outputs": [
    {
     "data": {
      "text/plain": [
       "'https://childcaresearch.ohio.gov//inspections/2170012482?q=fVLNbhMxEN40v0uapgKhHhAiBy6VQkUR1xwWN1VDIVl1V0gFcXDWk42FY6%2b83pS98Q6ICxdeg1fgyBvwJjB2uhCJqrPS2DOf59tvPPZqnuf9RrOrtd0ddCRhyRXMiVqtlBwO3oDOuZKj46On9hsOSCFMoWEkoTCaiuEgLOaCJ%2bdQxuoDyJEshGhaxkfbREcn8ewoAqqTJdHcgOb0MZ7ZC7VacwZ6WqzmoFtEFdKUDcJN2X7LM6IY7FZH4jKD1gU1XKbdkGrDqZjSFbQnckGlyXuXWJvGijGBknszYUuuIz%2fUkCdLpYQfuSVIoX9Cy3y2mGWgkVPJ%2fTNV6O1E8zVQke%2b%2fgIXSsCkjVEN3vAaJGuy%2bE13x1QqD%2b1EGiRUEwHKy5IJZeC%2fWVOaZ0sYR9oMFNv6PqTdbg5Y8XRob3TnlIFiseZYfjKkWpaPBs2z8MUMaJPDPgLLIYO%2f3Qs3X1MA5l9hmihmQB5tBiPK0wCT7q%2bLuK07nXOCVTmReoKIEmtNgfEma0zEJA9wTEqI%2fJaROZkEjINEEB5FKThsThLxaDce5eSPthnejNTudmrOH%2fw3dXesFlSm8e2%2ffV%2b1Gs8jOk%2bNW3bL59cpVL9MFm51V4DdvloHWt3h7q7TtztrIIo0Htwi0IvyWdZbA71jn2%2b5s7rZCp9cNJub4IseS2bUTgYDEAHM8rkUv%2b%2frymV1%2fPf%2fCnC77p9Z25vvn4JtDOhVynfl0%2bPPwh0P8CqmsYu3%2bAQ%3d%3d&p=1'"
      ]
     },
     "execution_count": 14,
     "metadata": {},
     "output_type": "execute_result"
    }
   ],
   "execution_count": 14
  },
  {
   "metadata": {},
   "cell_type": "code",
   "outputs": [],
   "execution_count": null,
   "source": "",
   "id": "cb86ce8145677ed2"
  }
 ],
 "metadata": {
  "kernelspec": {
   "display_name": "Python 3",
   "language": "python",
   "name": "python3"
  },
  "language_info": {
   "codemirror_mode": {
    "name": "ipython",
    "version": 2
   },
   "file_extension": ".py",
   "mimetype": "text/x-python",
   "name": "python",
   "nbconvert_exporter": "python",
   "pygments_lexer": "ipython2",
   "version": "2.7.6"
  }
 },
 "nbformat": 4,
 "nbformat_minor": 5
}
